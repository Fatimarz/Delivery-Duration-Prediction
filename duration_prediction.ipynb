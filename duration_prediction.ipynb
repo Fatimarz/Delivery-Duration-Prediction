{
 "cells": [
  {
   "cell_type": "code",
   "execution_count": 52,
   "id": "9c3dc7eb-093b-4413-ac39-392ff2d5b38a",
   "metadata": {},
   "outputs": [],
   "source": [
    "import pandas as pd"
   ]
  },
  {
   "cell_type": "code",
   "execution_count": 53,
   "id": "c1b220a5-0087-426c-8de6-8ac9febeedba",
   "metadata": {},
   "outputs": [],
   "source": [
    "data=pd.read_csv('historical_data.csv')"
   ]
  },
  {
   "cell_type": "code",
   "execution_count": 54,
   "id": "ad26d502-80a9-4abf-82ea-25dcabf8629b",
   "metadata": {
    "scrolled": true
   },
   "outputs": [
    {
     "data": {
      "text/html": [
       "<div>\n",
       "<style scoped>\n",
       "    .dataframe tbody tr th:only-of-type {\n",
       "        vertical-align: middle;\n",
       "    }\n",
       "\n",
       "    .dataframe tbody tr th {\n",
       "        vertical-align: top;\n",
       "    }\n",
       "\n",
       "    .dataframe thead th {\n",
       "        text-align: right;\n",
       "    }\n",
       "</style>\n",
       "<table border=\"1\" class=\"dataframe\">\n",
       "  <thead>\n",
       "    <tr style=\"text-align: right;\">\n",
       "      <th></th>\n",
       "      <th>market_id</th>\n",
       "      <th>created_at</th>\n",
       "      <th>actual_delivery_time</th>\n",
       "      <th>store_id</th>\n",
       "      <th>store_primary_category</th>\n",
       "      <th>order_protocol</th>\n",
       "      <th>total_items</th>\n",
       "      <th>subtotal</th>\n",
       "      <th>num_distinct_items</th>\n",
       "      <th>min_item_price</th>\n",
       "      <th>max_item_price</th>\n",
       "      <th>total_onshift_dashers</th>\n",
       "      <th>total_busy_dashers</th>\n",
       "      <th>total_outstanding_orders</th>\n",
       "      <th>estimated_order_place_duration</th>\n",
       "      <th>estimated_store_to_consumer_driving_duration</th>\n",
       "    </tr>\n",
       "  </thead>\n",
       "  <tbody>\n",
       "    <tr>\n",
       "      <th>0</th>\n",
       "      <td>1.0</td>\n",
       "      <td>2015-02-06 22:24:17</td>\n",
       "      <td>2015-02-06 23:27:16</td>\n",
       "      <td>1845</td>\n",
       "      <td>american</td>\n",
       "      <td>1.0</td>\n",
       "      <td>4</td>\n",
       "      <td>3441</td>\n",
       "      <td>4</td>\n",
       "      <td>557</td>\n",
       "      <td>1239</td>\n",
       "      <td>33.0</td>\n",
       "      <td>14.0</td>\n",
       "      <td>21.0</td>\n",
       "      <td>446</td>\n",
       "      <td>861.0</td>\n",
       "    </tr>\n",
       "    <tr>\n",
       "      <th>1</th>\n",
       "      <td>2.0</td>\n",
       "      <td>2015-02-10 21:49:25</td>\n",
       "      <td>2015-02-10 22:56:29</td>\n",
       "      <td>5477</td>\n",
       "      <td>mexican</td>\n",
       "      <td>2.0</td>\n",
       "      <td>1</td>\n",
       "      <td>1900</td>\n",
       "      <td>1</td>\n",
       "      <td>1400</td>\n",
       "      <td>1400</td>\n",
       "      <td>1.0</td>\n",
       "      <td>2.0</td>\n",
       "      <td>2.0</td>\n",
       "      <td>446</td>\n",
       "      <td>690.0</td>\n",
       "    </tr>\n",
       "    <tr>\n",
       "      <th>2</th>\n",
       "      <td>3.0</td>\n",
       "      <td>2015-01-22 20:39:28</td>\n",
       "      <td>2015-01-22 21:09:09</td>\n",
       "      <td>5477</td>\n",
       "      <td>NaN</td>\n",
       "      <td>1.0</td>\n",
       "      <td>1</td>\n",
       "      <td>1900</td>\n",
       "      <td>1</td>\n",
       "      <td>1900</td>\n",
       "      <td>1900</td>\n",
       "      <td>1.0</td>\n",
       "      <td>0.0</td>\n",
       "      <td>0.0</td>\n",
       "      <td>446</td>\n",
       "      <td>690.0</td>\n",
       "    </tr>\n",
       "    <tr>\n",
       "      <th>3</th>\n",
       "      <td>3.0</td>\n",
       "      <td>2015-02-03 21:21:45</td>\n",
       "      <td>2015-02-03 22:13:00</td>\n",
       "      <td>5477</td>\n",
       "      <td>NaN</td>\n",
       "      <td>1.0</td>\n",
       "      <td>6</td>\n",
       "      <td>6900</td>\n",
       "      <td>5</td>\n",
       "      <td>600</td>\n",
       "      <td>1800</td>\n",
       "      <td>1.0</td>\n",
       "      <td>1.0</td>\n",
       "      <td>2.0</td>\n",
       "      <td>446</td>\n",
       "      <td>289.0</td>\n",
       "    </tr>\n",
       "    <tr>\n",
       "      <th>4</th>\n",
       "      <td>3.0</td>\n",
       "      <td>2015-02-15 02:40:36</td>\n",
       "      <td>2015-02-15 03:20:26</td>\n",
       "      <td>5477</td>\n",
       "      <td>NaN</td>\n",
       "      <td>1.0</td>\n",
       "      <td>3</td>\n",
       "      <td>3900</td>\n",
       "      <td>3</td>\n",
       "      <td>1100</td>\n",
       "      <td>1600</td>\n",
       "      <td>6.0</td>\n",
       "      <td>6.0</td>\n",
       "      <td>9.0</td>\n",
       "      <td>446</td>\n",
       "      <td>650.0</td>\n",
       "    </tr>\n",
       "  </tbody>\n",
       "</table>\n",
       "</div>"
      ],
      "text/plain": [
       "   market_id           created_at actual_delivery_time  store_id  \\\n",
       "0        1.0  2015-02-06 22:24:17  2015-02-06 23:27:16      1845   \n",
       "1        2.0  2015-02-10 21:49:25  2015-02-10 22:56:29      5477   \n",
       "2        3.0  2015-01-22 20:39:28  2015-01-22 21:09:09      5477   \n",
       "3        3.0  2015-02-03 21:21:45  2015-02-03 22:13:00      5477   \n",
       "4        3.0  2015-02-15 02:40:36  2015-02-15 03:20:26      5477   \n",
       "\n",
       "  store_primary_category  order_protocol  total_items  subtotal  \\\n",
       "0               american             1.0            4      3441   \n",
       "1                mexican             2.0            1      1900   \n",
       "2                    NaN             1.0            1      1900   \n",
       "3                    NaN             1.0            6      6900   \n",
       "4                    NaN             1.0            3      3900   \n",
       "\n",
       "   num_distinct_items  min_item_price  max_item_price  total_onshift_dashers  \\\n",
       "0                   4             557            1239                   33.0   \n",
       "1                   1            1400            1400                    1.0   \n",
       "2                   1            1900            1900                    1.0   \n",
       "3                   5             600            1800                    1.0   \n",
       "4                   3            1100            1600                    6.0   \n",
       "\n",
       "   total_busy_dashers  total_outstanding_orders  \\\n",
       "0                14.0                      21.0   \n",
       "1                 2.0                       2.0   \n",
       "2                 0.0                       0.0   \n",
       "3                 1.0                       2.0   \n",
       "4                 6.0                       9.0   \n",
       "\n",
       "   estimated_order_place_duration  \\\n",
       "0                             446   \n",
       "1                             446   \n",
       "2                             446   \n",
       "3                             446   \n",
       "4                             446   \n",
       "\n",
       "   estimated_store_to_consumer_driving_duration  \n",
       "0                                         861.0  \n",
       "1                                         690.0  \n",
       "2                                         690.0  \n",
       "3                                         289.0  \n",
       "4                                         650.0  "
      ]
     },
     "execution_count": 54,
     "metadata": {},
     "output_type": "execute_result"
    }
   ],
   "source": [
    "data.head()"
   ]
  },
  {
   "cell_type": "code",
   "execution_count": 55,
   "id": "eaf89888-7d35-4620-a7fb-836c7abcc0eb",
   "metadata": {},
   "outputs": [
    {
     "data": {
      "text/plain": [
       "(197428, 16)"
      ]
     },
     "execution_count": 55,
     "metadata": {},
     "output_type": "execute_result"
    }
   ],
   "source": [
    "data.shape"
   ]
  },
  {
   "cell_type": "code",
   "execution_count": 56,
   "id": "9ce0dcfb-bd72-45c5-859a-a68c1167a02a",
   "metadata": {},
   "outputs": [
    {
     "data": {
      "text/plain": [
       "market_id                                         987\n",
       "created_at                                          0\n",
       "actual_delivery_time                                7\n",
       "store_id                                            0\n",
       "store_primary_category                           4760\n",
       "order_protocol                                    995\n",
       "total_items                                         0\n",
       "subtotal                                            0\n",
       "num_distinct_items                                  0\n",
       "min_item_price                                      0\n",
       "max_item_price                                      0\n",
       "total_onshift_dashers                           16262\n",
       "total_busy_dashers                              16262\n",
       "total_outstanding_orders                        16262\n",
       "estimated_order_place_duration                      0\n",
       "estimated_store_to_consumer_driving_duration      526\n",
       "dtype: int64"
      ]
     },
     "execution_count": 56,
     "metadata": {},
     "output_type": "execute_result"
    }
   ],
   "source": [
    "data.isna().sum()"
   ]
  },
  {
   "cell_type": "code",
   "execution_count": 57,
   "id": "4fec9b9f-4275-4051-a059-55964b420301",
   "metadata": {},
   "outputs": [],
   "source": [
    "## mapping store id with most common category and imputing nan\n",
    "mapped = data.groupby('store_id')['store_primary_category'].agg(lambda x: x.mode().iloc[0] if not x.mode().empty else None)"
   ]
  },
  {
   "cell_type": "code",
   "execution_count": 58,
   "id": "5d740f9c-a8a2-4da2-9b67-8a365209c750",
   "metadata": {},
   "outputs": [],
   "source": [
    "data['store_primary_category'] = data['store_primary_category'].fillna(data['store_id'].map(mapped))"
   ]
  },
  {
   "cell_type": "code",
   "execution_count": 59,
   "id": "d017a331-7b07-4c79-aa39-854f398c6520",
   "metadata": {},
   "outputs": [
    {
     "data": {
      "text/plain": [
       "867"
      ]
     },
     "execution_count": 59,
     "metadata": {},
     "output_type": "execute_result"
    }
   ],
   "source": [
    "data['store_primary_category'].isna().sum()"
   ]
  },
  {
   "cell_type": "code",
   "execution_count": 60,
   "id": "8f82d6f6-7ef4-455a-8a1d-af2ee06c8d9a",
   "metadata": {},
   "outputs": [],
   "source": [
    "#imputing remaining with mode\n",
    "data['store_primary_category']=data['store_primary_category'].fillna(data['store_primary_category'].mode()[0])"
   ]
  },
  {
   "cell_type": "code",
   "execution_count": 61,
   "id": "8bd3aa03-00c7-47ca-853c-51f5652bd713",
   "metadata": {},
   "outputs": [
    {
     "data": {
      "text/plain": [
       "0"
      ]
     },
     "execution_count": 61,
     "metadata": {},
     "output_type": "execute_result"
    }
   ],
   "source": [
    "data['store_primary_category'].isna().sum()"
   ]
  },
  {
   "cell_type": "code",
   "execution_count": 62,
   "id": "366fad4f-9e48-4ba4-b41b-a63a7643a46a",
   "metadata": {},
   "outputs": [],
   "source": [
    "data['order_protocol']=data['order_protocol'].fillna(data['order_protocol'].mode()[0])"
   ]
  },
  {
   "cell_type": "code",
   "execution_count": 63,
   "id": "dcd54483-24c4-4047-8ef1-e6aaccaa54a2",
   "metadata": {},
   "outputs": [
    {
     "data": {
      "text/plain": [
       "count    181166.000000\n",
       "mean         44.808093\n",
       "std          34.526783\n",
       "min          -4.000000\n",
       "25%          17.000000\n",
       "50%          37.000000\n",
       "75%          65.000000\n",
       "max         171.000000\n",
       "Name: total_onshift_dashers, dtype: float64"
      ]
     },
     "execution_count": 63,
     "metadata": {},
     "output_type": "execute_result"
    }
   ],
   "source": [
    "#imputing total_onshift_dashers\n",
    "data['total_onshift_dashers'].describe()"
   ]
  },
  {
   "cell_type": "code",
   "execution_count": 64,
   "id": "65bb0885-60e5-4106-a35f-a03249621ee3",
   "metadata": {},
   "outputs": [
    {
     "data": {
      "text/plain": [
       "179225   -4.0\n",
       "60282    -3.0\n",
       "6034     -2.0\n",
       "12888    -2.0\n",
       "61131    -2.0\n",
       "Name: total_onshift_dashers, dtype: float64"
      ]
     },
     "execution_count": 64,
     "metadata": {},
     "output_type": "execute_result"
    }
   ],
   "source": [
    "data['total_onshift_dashers'].nsmallest()"
   ]
  },
  {
   "cell_type": "code",
   "execution_count": 65,
   "id": "bc2bdbd8-0e71-4f2e-9072-7967b5c9b846",
   "metadata": {},
   "outputs": [
    {
     "data": {
      "text/plain": [
       "120296   -5.0\n",
       "59764    -4.0\n",
       "67149    -4.0\n",
       "59370    -3.0\n",
       "126816   -3.0\n",
       "Name: total_busy_dashers, dtype: float64"
      ]
     },
     "execution_count": 65,
     "metadata": {},
     "output_type": "execute_result"
    }
   ],
   "source": [
    "data['total_busy_dashers'].nsmallest()"
   ]
  },
  {
   "cell_type": "code",
   "execution_count": 66,
   "id": "c27f96a7-a5ea-4dfa-a426-bc99d9046523",
   "metadata": {},
   "outputs": [
    {
     "data": {
      "text/plain": [
       "36317   -6.0\n",
       "56554   -6.0\n",
       "72838   -6.0\n",
       "85718   -6.0\n",
       "94795   -6.0\n",
       "Name: total_outstanding_orders, dtype: float64"
      ]
     },
     "execution_count": 66,
     "metadata": {},
     "output_type": "execute_result"
    }
   ],
   "source": [
    "data['total_outstanding_orders'].nsmallest()"
   ]
  },
  {
   "cell_type": "code",
   "execution_count": 67,
   "id": "8757952c-f350-4e72-8d52-3b9c3b6c0dc3",
   "metadata": {},
   "outputs": [],
   "source": [
    "columns = ['total_outstanding_orders', 'total_busy_dashers', 'total_onshift_dashers']\n",
    "for c in columns:\n",
    "    data = data[data[c] > 0]  # Keep only rows where the value is >= 0\n",
    "\n"
   ]
  },
  {
   "cell_type": "raw",
   "id": "07c15df2-d22e-49af-a644-33edd452070b",
   "metadata": {},
   "source": [
    "if impute it by mean then its becoming misleading as no of busy are becoming > onshift which is not possible"
   ]
  },
  {
   "cell_type": "code",
   "execution_count": 68,
   "id": "79274826-247c-4eef-8fd9-6eee3e962046",
   "metadata": {},
   "outputs": [
    {
     "data": {
      "text/plain": [
       "market_id                                       893\n",
       "created_at                                        0\n",
       "actual_delivery_time                              7\n",
       "store_id                                          0\n",
       "store_primary_category                            0\n",
       "order_protocol                                    0\n",
       "total_items                                       0\n",
       "subtotal                                          0\n",
       "num_distinct_items                                0\n",
       "min_item_price                                    0\n",
       "max_item_price                                    0\n",
       "total_onshift_dashers                             0\n",
       "total_busy_dashers                                0\n",
       "total_outstanding_orders                          0\n",
       "estimated_order_place_duration                    0\n",
       "estimated_store_to_consumer_driving_duration    465\n",
       "dtype: int64"
      ]
     },
     "execution_count": 68,
     "metadata": {},
     "output_type": "execute_result"
    }
   ],
   "source": [
    "data.isna().sum()"
   ]
  },
  {
   "cell_type": "code",
   "execution_count": 69,
   "id": "5d8cd403-bb4a-4e12-91ab-f3016131b374",
   "metadata": {},
   "outputs": [
    {
     "data": {
      "text/plain": [
       "count    176169.000000\n",
       "mean        546.197118\n",
       "std         218.416137\n",
       "min           0.000000\n",
       "25%         384.000000\n",
       "50%         545.000000\n",
       "75%         703.000000\n",
       "max        2088.000000\n",
       "Name: estimated_store_to_consumer_driving_duration, dtype: float64"
      ]
     },
     "execution_count": 69,
     "metadata": {},
     "output_type": "execute_result"
    }
   ],
   "source": [
    "data['estimated_store_to_consumer_driving_duration'].describe()"
   ]
  },
  {
   "cell_type": "code",
   "execution_count": 70,
   "id": "c69ef679-0e7a-4a58-8940-357628490795",
   "metadata": {},
   "outputs": [],
   "source": [
    "data['estimated_store_to_consumer_driving_duration']=data['estimated_store_to_consumer_driving_duration'].fillna(data['estimated_store_to_consumer_driving_duration'].median())"
   ]
  },
  {
   "cell_type": "code",
   "execution_count": 71,
   "id": "21a249b4-0304-45c2-9b77-ec16ebab425a",
   "metadata": {},
   "outputs": [
    {
     "data": {
      "text/plain": [
       "count    175741.000000\n",
       "mean          2.769365\n",
       "std           1.330059\n",
       "min           1.000000\n",
       "25%           2.000000\n",
       "50%           2.000000\n",
       "75%           4.000000\n",
       "max           6.000000\n",
       "Name: market_id, dtype: float64"
      ]
     },
     "execution_count": 71,
     "metadata": {},
     "output_type": "execute_result"
    }
   ],
   "source": [
    "data['market_id'].describe()"
   ]
  },
  {
   "cell_type": "code",
   "execution_count": 72,
   "id": "7823a333-1a7c-48ac-abb2-51915d81792d",
   "metadata": {},
   "outputs": [],
   "source": [
    "data['market_id']=data['market_id'].fillna(data['market_id'].median())"
   ]
  },
  {
   "cell_type": "code",
   "execution_count": 73,
   "id": "fa2d99ef-86fa-4b91-9f23-264bdbd59ba4",
   "metadata": {},
   "outputs": [],
   "source": [
    "data.dropna(inplace=True)"
   ]
  },
  {
   "cell_type": "code",
   "execution_count": 74,
   "id": "959cc4ad-341c-49e6-afdc-dea6c54a873a",
   "metadata": {},
   "outputs": [
    {
     "data": {
      "text/plain": [
       "market_id                                       0\n",
       "created_at                                      0\n",
       "actual_delivery_time                            0\n",
       "store_id                                        0\n",
       "store_primary_category                          0\n",
       "order_protocol                                  0\n",
       "total_items                                     0\n",
       "subtotal                                        0\n",
       "num_distinct_items                              0\n",
       "min_item_price                                  0\n",
       "max_item_price                                  0\n",
       "total_onshift_dashers                           0\n",
       "total_busy_dashers                              0\n",
       "total_outstanding_orders                        0\n",
       "estimated_order_place_duration                  0\n",
       "estimated_store_to_consumer_driving_duration    0\n",
       "dtype: int64"
      ]
     },
     "execution_count": 74,
     "metadata": {},
     "output_type": "execute_result"
    }
   ],
   "source": [
    "data.isna().sum()"
   ]
  },
  {
   "cell_type": "markdown",
   "id": "62ee9400-f304-452e-badc-2457fe4a93d7",
   "metadata": {},
   "source": [
    "## feature engineering"
   ]
  },
  {
   "cell_type": "code",
   "execution_count": 75,
   "id": "3e598f85-2fdd-48d2-94ec-b41c68991498",
   "metadata": {},
   "outputs": [
    {
     "name": "stdout",
     "output_type": "stream",
     "text": [
      "                created_at day_type time_of_day\n",
      "0      2015-02-06 22:24:17  working       night\n",
      "1      2015-02-10 21:49:25  working     evening\n",
      "3      2015-02-03 21:21:45  working     evening\n",
      "4      2015-02-15 02:40:36  weekend       night\n",
      "5      2015-01-28 20:30:38  working     evening\n",
      "...                    ...      ...         ...\n",
      "197423 2015-02-17 00:19:41  working       night\n",
      "197424 2015-02-13 00:01:59  working       night\n",
      "197425 2015-01-24 04:46:08  weekend       night\n",
      "197426 2015-02-01 18:18:15  weekend     evening\n",
      "197427 2015-02-08 19:24:33  weekend     evening\n",
      "\n",
      "[176627 rows x 3 columns]\n"
     ]
    }
   ],
   "source": [
    "# Convert 'created_at' to datetime if it's not already\n",
    "data['created_at'] = pd.to_datetime(data['created_at'])\n",
    "\n",
    "# Calculate 'day_type': working or weekend\n",
    "data['day_type'] = data['created_at'].dt.dayofweek\n",
    "data['day_type'] = data['day_type'].apply(lambda x: 'weekend' if x >= 5 else 'working')\n",
    "\n",
    "# Calculate 'time_of_day': morning, afternoon, evening, night\n",
    "data['time_of_day'] = data['created_at'].dt.hour\n",
    "data['time_of_day'] = data['time_of_day'].apply(\n",
    "    lambda x: 'morning' if 6 <= x < 12 else\n",
    "              'afternoon' if 12 <= x < 18 else\n",
    "              'evening' if 18 <= x < 22 else 'night'\n",
    ")\n",
    "\n",
    "# Check the result\n",
    "print(data[['created_at', 'day_type', 'time_of_day']])\n"
   ]
  },
  {
   "cell_type": "code",
   "execution_count": 76,
   "id": "889d0c8a-4fed-4976-bf25-ca40d39ab83a",
   "metadata": {},
   "outputs": [],
   "source": [
    "data['actual_delivery_time'] = pd.to_datetime(data['actual_delivery_time'])\n",
    "data['delivery_duration']=(data['actual_delivery_time'])-(data['created_at'])"
   ]
  },
  {
   "cell_type": "code",
   "execution_count": 77,
   "id": "2f899260-1b71-4bee-be37-5b1a38c6df28",
   "metadata": {},
   "outputs": [],
   "source": [
    "#also converting seconds into minutes\n",
    "data['delivery_duration'] = data['delivery_duration'].dt.total_seconds() / 60"
   ]
  },
  {
   "cell_type": "code",
   "execution_count": 78,
   "id": "3bffd76d-3137-4cde-9d12-ba3766189b49",
   "metadata": {},
   "outputs": [
    {
     "data": {
      "text/plain": [
       "0"
      ]
     },
     "execution_count": 78,
     "metadata": {},
     "output_type": "execute_result"
    }
   ],
   "source": [
    "data.duplicated().sum() #no duplicates"
   ]
  },
  {
   "cell_type": "code",
   "execution_count": 79,
   "id": "342bf11a-0030-44e7-8357-2e0d0b326ab6",
   "metadata": {},
   "outputs": [],
   "source": [
    "data.drop(data[data['subtotal'] == 0].index, inplace=True)"
   ]
  },
  {
   "cell_type": "code",
   "execution_count": 80,
   "id": "04e5cd4b-f276-4cc3-95ac-fa6229a97941",
   "metadata": {},
   "outputs": [],
   "source": [
    "data=data[data['min_item_price']>0]"
   ]
  },
  {
   "cell_type": "code",
   "execution_count": 81,
   "id": "fc44fb9f-9e72-4521-a25b-fae41bb8e1de",
   "metadata": {},
   "outputs": [],
   "source": [
    "#avg price per item\n",
    "data['avg_price_per_item']=(data['total_items'])/(data['subtotal'])"
   ]
  },
  {
   "cell_type": "code",
   "execution_count": 82,
   "id": "14a06938-5096-4039-9e36-d75b2ea84fb0",
   "metadata": {},
   "outputs": [],
   "source": [
    "#unique items\n",
    "data['item_variety_ratio']=(data['num_distinct_items'])/(data['total_items'])"
   ]
  },
  {
   "cell_type": "code",
   "execution_count": 83,
   "id": "f1192468-ae2a-409d-a5d6-5dafb4b80f05",
   "metadata": {},
   "outputs": [],
   "source": [
    "#price range\n",
    "data['price_range']=(data['max_item_price'])=(data['min_item_price'])"
   ]
  },
  {
   "cell_type": "code",
   "execution_count": 84,
   "id": "6789d6da-1af4-4da5-bda1-aef451516167",
   "metadata": {},
   "outputs": [],
   "source": [
    "data['busy_driver_ratio']=(data['total_busy_dashers'])/(data['total_onshift_dashers'])"
   ]
  },
  {
   "cell_type": "code",
   "execution_count": 85,
   "id": "989ae43d-b5f1-4588-b512-c48c103dfebd",
   "metadata": {},
   "outputs": [],
   "source": [
    "# converting into minutes\n",
    "data['estimated_order_place_duration']=data['estimated_order_place_duration']/60"
   ]
  },
  {
   "cell_type": "code",
   "execution_count": 86,
   "id": "290305c1-5d72-4ba6-a793-dd17519cecdb",
   "metadata": {},
   "outputs": [],
   "source": [
    "data['estimated_store_to_consumer_driving_duration']=data['estimated_store_to_consumer_driving_duration']/60"
   ]
  },
  {
   "cell_type": "code",
   "execution_count": 87,
   "id": "9312c7eb-1c3c-4f42-8c04-c6d9da6ce24a",
   "metadata": {},
   "outputs": [
    {
     "data": {
      "text/plain": [
       "count    174303.000000\n",
       "mean         47.597962\n",
       "std          23.308781\n",
       "min           1.683333\n",
       "25%          35.050000\n",
       "50%          44.266667\n",
       "75%          56.216667\n",
       "max        5541.366667\n",
       "Name: delivery_duration, dtype: float64"
      ]
     },
     "execution_count": 87,
     "metadata": {},
     "output_type": "execute_result"
    }
   ],
   "source": [
    "data['delivery_duration'].describe()"
   ]
  },
  {
   "cell_type": "code",
   "execution_count": 88,
   "id": "4b37a4c4-9d6e-4e30-aeb3-ae756565f5b8",
   "metadata": {},
   "outputs": [
    {
     "data": {
      "text/plain": [
       "count    174303.000000\n",
       "mean         47.597962\n",
       "std          23.308781\n",
       "min           1.683333\n",
       "25%          35.050000\n",
       "50%          44.266667\n",
       "75%          56.216667\n",
       "max        5541.366667\n",
       "Name: delivery_duration, dtype: float64"
      ]
     },
     "execution_count": 88,
     "metadata": {},
     "output_type": "execute_result"
    }
   ],
   "source": [
    "data['delivery_duration'].describe()"
   ]
  },
  {
   "cell_type": "raw",
   "id": "f38d3fef-acda-40f5-8226-2dc61f767b8b",
   "metadata": {},
   "source": [
    "outliers are present in target so log transform can be done to target"
   ]
  },
  {
   "cell_type": "markdown",
   "id": "b20dcc8e-1859-4c3e-9c25-429493664a3b",
   "metadata": {},
   "source": [
    "## encoding"
   ]
  },
  {
   "cell_type": "code",
   "execution_count": 89,
   "id": "1be19478-fccb-458c-a27d-7a2e78765012",
   "metadata": {},
   "outputs": [],
   "source": [
    "#encoding categorical columns\n",
    "columns=['store_primary_category','day_type','time_of_day']\n",
    "for col in columns:\n",
    "    cat=pd.get_dummies(data[col],dtype='int')\n",
    "    data=pd.concat([data,cat],axis=1)    \n"
   ]
  },
  {
   "cell_type": "code",
   "execution_count": 90,
   "id": "6c4718f1-faa4-4b4b-a34c-dda887637f29",
   "metadata": {},
   "outputs": [],
   "source": [
    "data.drop(columns=['store_primary_category','order_protocol','day_type','time_of_day','market_id','created_at','actual_delivery_time','store_id','min_item_price','max_item_price','num_distinct_items'], inplace=True, axis=1)"
   ]
  },
  {
   "cell_type": "raw",
   "id": "d9e0107c-20ce-4e60-a690-d1312e927eac",
   "metadata": {},
   "source": [
    "\n",
    "\n",
    "def rmse_inv_transform(y_scaler, y_test, y_predict_scaled, model_name):\n",
    "    # Inverse transform first\n",
    "    y_test_inv = y_scaler.inverse_transform(y_test_scaled.reshape(-1, 1))\n",
    "    y_predict_inv = y_scaler.inverse_transform(y_predict_scaled.reshape(-1, 1))\n",
    "    \n",
    "    # Then calculate RMSE\n",
    "    rmse = np.sqrt(mean_squared_error(y_test_inv, y_predict_inv))\n",
    "\n",
    "    return rmse, y_predict_inv"
   ]
  },
  {
   "cell_type": "code",
   "execution_count": 91,
   "id": "440972c4-9fcc-4e71-a566-42e828277b3d",
   "metadata": {},
   "outputs": [],
   "source": [
    "from lightgbm import LGBMRegressor\n",
    "from sklearn.metrics import mean_squared_error\n",
    "from sklearn.neural_network import MLPRegressor\n",
    "from sklearn import tree\n",
    "from sklearn import linear_model"
   ]
  },
  {
   "cell_type": "code",
   "execution_count": 92,
   "id": "e58ce942-81cc-4e43-91e5-66717b75f0db",
   "metadata": {},
   "outputs": [],
   "source": [
    "def make_regression(x_train, y_train, x_test, y_test, model, model_name, verbose=True):\n",
    "    model.fit(x_train, y_train)\n",
    "    y_predict_train = model.predict(x_train)  # Predictions for training set\n",
    "    train_error = mean_squared_error(y_train, y_predict_train)  # Calculate train error\n",
    "    y_predict_test = model.predict(x_test)  # Predictions for test set\n",
    "    test_error = mean_squared_error(y_test, y_predict_test)  # Calculate test error\n",
    "    if verbose:\n",
    "        print(f\"Train error = {train_error} in {model_name}\")\n",
    "        print(f\"Test error = {test_error} in {model_name}\")\n",
    "    trained_model = model\n",
    "\n",
    "    return trained_model, y_predict_test, train_error, test_error\n",
    "\n",
    "        "
   ]
  },
  {
   "cell_type": "code",
   "execution_count": 94,
   "id": "309b39a3-12f6-434d-99b2-1b8c8374eb61",
   "metadata": {},
   "outputs": [
    {
     "name": "stdout",
     "output_type": "stream",
     "text": [
      "[LightGBM] [Info] Auto-choosing row-wise multi-threading, the overhead of testing was 0.005623 seconds.\n",
      "You can set `force_row_wise=true` to remove the overhead.\n",
      "And if memory is not enough, you can set `force_col_wise=true`.\n",
      "[LightGBM] [Info] Total Bins 2409\n",
      "[LightGBM] [Info] Number of data points in the train set: 139442, number of used features: 82\n",
      "[LightGBM] [Info] Start training from score 47.607140\n",
      "  regression_model feature_set        RMSE\n",
      "0     DecisionTree   full data  260.767784\n",
      "1     RandomForest   full data  212.920638\n",
      "2             LGBM   full data   84.323108\n",
      "3              MLP   full data    0.177851\n"
     ]
    }
   ],
   "source": [
    "# Your initial dictionaries\n",
    "pred_dict = {\n",
    "    'regression_model': [],\n",
    "    'feature_set': [],\n",
    "    'RMSE': [],\n",
    "}\n",
    "\n",
    "regression_models = {\n",
    "    'DecisionTree': tree.DecisionTreeRegressor(max_depth=6, min_samples_split=10, min_samples_leaf=5, max_features='sqrt', random_state=42),\n",
    "    'RandomForest': RandomForestRegressor(n_estimators=50, max_depth=6, max_features='sqrt', n_jobs=-1, random_state=42),\n",
    "    'LGBM': LGBMRegressor(n_estimators=500, learning_rate=0.05, max_depth=-1, random_state=42),\n",
    "    'MLP': MLPRegressor(hidden_layer_sizes=(50,), activation='relu', solver='adam', max_iter=500, random_state=42)\n",
    "}\n",
    "\n",
    "# Ensure selected_features_40 uses only columns present in the data\n",
    "feature_sets = {\n",
    "    'full data': data.columns.to_list(),\n",
    "}\n",
    "\n",
    "# Loop through regression models\n",
    "for feature_set_name, feature_set in feature_sets.items():\n",
    "    for model_name, model in regression_models.items():\n",
    "        x = data[feature_set]  # Get features from the cleaned feature set\n",
    "        y = data['delivery_duration']\n",
    "        x_train, x_test, y_train, y_test = train_test_split(x, y, test_size=0.2, random_state=42)\n",
    "\n",
    "        # Train the model and calculate errors\n",
    "        trained_model, y_predict, train_error, test_error = make_regression(\n",
    "            x_train, y_train, x_test, y_test,\n",
    "            model, model_name, verbose=False\n",
    "        )\n",
    "\n",
    "        # Use test_error as RMSE\n",
    "        rmse_error = test_error\n",
    "\n",
    "        # Save results\n",
    "        pred_dict['regression_model'].append(model_name)\n",
    "        pred_dict['feature_set'].append(feature_set_name)\n",
    "        pred_dict['RMSE'].append(rmse_error)\n",
    "\n",
    "# Convert pred_dict to a DataFrame for easier analysis\n",
    "pred_df = pd.DataFrame(pred_dict)\n",
    "print(pred_df)\n"
   ]
  },
  {
   "cell_type": "raw",
   "id": "3475b9e1-ea7e-44a6-9219-26044bf20429",
   "metadata": {},
   "source": [
    "GBM and MLP are performing best on full data (lowest RMSE). so wil continue with MLP as it is capturing patterns way better than others\n",
    "But  MLP is likely overfitting, since the RMSE is too low to be realistic, so need to fine tune that "
   ]
  },
  {
   "cell_type": "markdown",
   "id": "014acea9-a78c-4bce-9d12-710266b590b7",
   "metadata": {},
   "source": [
    "## top correlations"
   ]
  },
  {
   "cell_type": "code",
   "execution_count": 95,
   "id": "e1b3550c-29bf-44af-8ccd-6a2142dd141a",
   "metadata": {},
   "outputs": [],
   "source": [
    "def top_corr(df,n=5):\n",
    "    au_corr=df.corr().abs().unstack()\n",
    "    labels_to_drop=high_corr(df)\n",
    "    au_corr=au_corr.drop(labels=labels_to_drop).sort_values(ascending=False)\n",
    "    return au_corr[0:n]"
   ]
  },
  {
   "cell_type": "code",
   "execution_count": 96,
   "id": "187eb357-73a8-43a0-bc6e-65ed2718fd7b",
   "metadata": {},
   "outputs": [
    {
     "name": "stdout",
     "output_type": "stream",
     "text": [
      "top absolute correlations\n",
      "weekend                   working                     1.000000\n",
      "total_onshift_dashers     total_busy_dashers          0.941239\n",
      "                          total_outstanding_orders    0.934077\n",
      "total_busy_dashers        total_outstanding_orders    0.930788\n",
      "evening                   night                       0.911099\n",
      "total_items               subtotal                    0.685729\n",
      "avg_price_per_item        price_range                 0.545667\n",
      "total_items               item_variety_ratio          0.441320\n",
      "                          price_range                 0.425614\n",
      "                          avg_price_per_item          0.341479\n",
      "avg_price_per_item        fast                        0.315008\n",
      "total_onshift_dashers     night                       0.297331\n",
      "avg_price_per_item        item_variety_ratio          0.292235\n",
      "afternoon                 night                       0.281701\n",
      "total_outstanding_orders  night                       0.279930\n",
      "total_busy_dashers        night                       0.277203\n",
      "subtotal                  avg_price_per_item          0.268920\n",
      "total_onshift_dashers     evening                     0.220443\n",
      "subtotal                  item_variety_ratio          0.218129\n",
      "total_outstanding_orders  evening                     0.213792\n",
      "dtype: float64\n"
     ]
    }
   ],
   "source": [
    "print('top absolute correlations')\n",
    "print(top_corr(data,20))"
   ]
  },
  {
   "cell_type": "markdown",
   "id": "391bef58-706f-4e94-b1ac-2724431f0e81",
   "metadata": {},
   "source": [
    "# feature importance"
   ]
  },
  {
   "cell_type": "code",
   "execution_count": 97,
   "id": "2aefdd0f-c255-4841-83e9-5e58e99c19b6",
   "metadata": {},
   "outputs": [],
   "source": [
    "from sklearn.ensemble import RandomForestRegressor\n",
    "from sklearn.model_selection import train_test_split"
   ]
  },
  {
   "cell_type": "code",
   "execution_count": 98,
   "id": "b650ccf1-d922-4eff-8763-23bfd6f5fdd6",
   "metadata": {},
   "outputs": [],
   "source": [
    "x=data.drop(columns=['delivery_duration'])\n",
    "x.columns = x.columns.astype(str)\n",
    "y=data['delivery_duration']\n",
    "x_train,x_test,y_train,y_test=train_test_split(x,y,test_size=0.2,random_state=42)"
   ]
  },
  {
   "cell_type": "code",
   "execution_count": 99,
   "id": "404c1753-85e7-4f3c-b0e5-33e41bac6b61",
   "metadata": {},
   "outputs": [
    {
     "data": {
      "text/html": [
       "<style>#sk-container-id-1 {\n",
       "  /* Definition of color scheme common for light and dark mode */\n",
       "  --sklearn-color-text: #000;\n",
       "  --sklearn-color-text-muted: #666;\n",
       "  --sklearn-color-line: gray;\n",
       "  /* Definition of color scheme for unfitted estimators */\n",
       "  --sklearn-color-unfitted-level-0: #fff5e6;\n",
       "  --sklearn-color-unfitted-level-1: #f6e4d2;\n",
       "  --sklearn-color-unfitted-level-2: #ffe0b3;\n",
       "  --sklearn-color-unfitted-level-3: chocolate;\n",
       "  /* Definition of color scheme for fitted estimators */\n",
       "  --sklearn-color-fitted-level-0: #f0f8ff;\n",
       "  --sklearn-color-fitted-level-1: #d4ebff;\n",
       "  --sklearn-color-fitted-level-2: #b3dbfd;\n",
       "  --sklearn-color-fitted-level-3: cornflowerblue;\n",
       "\n",
       "  /* Specific color for light theme */\n",
       "  --sklearn-color-text-on-default-background: var(--sg-text-color, var(--theme-code-foreground, var(--jp-content-font-color1, black)));\n",
       "  --sklearn-color-background: var(--sg-background-color, var(--theme-background, var(--jp-layout-color0, white)));\n",
       "  --sklearn-color-border-box: var(--sg-text-color, var(--theme-code-foreground, var(--jp-content-font-color1, black)));\n",
       "  --sklearn-color-icon: #696969;\n",
       "\n",
       "  @media (prefers-color-scheme: dark) {\n",
       "    /* Redefinition of color scheme for dark theme */\n",
       "    --sklearn-color-text-on-default-background: var(--sg-text-color, var(--theme-code-foreground, var(--jp-content-font-color1, white)));\n",
       "    --sklearn-color-background: var(--sg-background-color, var(--theme-background, var(--jp-layout-color0, #111)));\n",
       "    --sklearn-color-border-box: var(--sg-text-color, var(--theme-code-foreground, var(--jp-content-font-color1, white)));\n",
       "    --sklearn-color-icon: #878787;\n",
       "  }\n",
       "}\n",
       "\n",
       "#sk-container-id-1 {\n",
       "  color: var(--sklearn-color-text);\n",
       "}\n",
       "\n",
       "#sk-container-id-1 pre {\n",
       "  padding: 0;\n",
       "}\n",
       "\n",
       "#sk-container-id-1 input.sk-hidden--visually {\n",
       "  border: 0;\n",
       "  clip: rect(1px 1px 1px 1px);\n",
       "  clip: rect(1px, 1px, 1px, 1px);\n",
       "  height: 1px;\n",
       "  margin: -1px;\n",
       "  overflow: hidden;\n",
       "  padding: 0;\n",
       "  position: absolute;\n",
       "  width: 1px;\n",
       "}\n",
       "\n",
       "#sk-container-id-1 div.sk-dashed-wrapped {\n",
       "  border: 1px dashed var(--sklearn-color-line);\n",
       "  margin: 0 0.4em 0.5em 0.4em;\n",
       "  box-sizing: border-box;\n",
       "  padding-bottom: 0.4em;\n",
       "  background-color: var(--sklearn-color-background);\n",
       "}\n",
       "\n",
       "#sk-container-id-1 div.sk-container {\n",
       "  /* jupyter's `normalize.less` sets `[hidden] { display: none; }`\n",
       "     but bootstrap.min.css set `[hidden] { display: none !important; }`\n",
       "     so we also need the `!important` here to be able to override the\n",
       "     default hidden behavior on the sphinx rendered scikit-learn.org.\n",
       "     See: https://github.com/scikit-learn/scikit-learn/issues/21755 */\n",
       "  display: inline-block !important;\n",
       "  position: relative;\n",
       "}\n",
       "\n",
       "#sk-container-id-1 div.sk-text-repr-fallback {\n",
       "  display: none;\n",
       "}\n",
       "\n",
       "div.sk-parallel-item,\n",
       "div.sk-serial,\n",
       "div.sk-item {\n",
       "  /* draw centered vertical line to link estimators */\n",
       "  background-image: linear-gradient(var(--sklearn-color-text-on-default-background), var(--sklearn-color-text-on-default-background));\n",
       "  background-size: 2px 100%;\n",
       "  background-repeat: no-repeat;\n",
       "  background-position: center center;\n",
       "}\n",
       "\n",
       "/* Parallel-specific style estimator block */\n",
       "\n",
       "#sk-container-id-1 div.sk-parallel-item::after {\n",
       "  content: \"\";\n",
       "  width: 100%;\n",
       "  border-bottom: 2px solid var(--sklearn-color-text-on-default-background);\n",
       "  flex-grow: 1;\n",
       "}\n",
       "\n",
       "#sk-container-id-1 div.sk-parallel {\n",
       "  display: flex;\n",
       "  align-items: stretch;\n",
       "  justify-content: center;\n",
       "  background-color: var(--sklearn-color-background);\n",
       "  position: relative;\n",
       "}\n",
       "\n",
       "#sk-container-id-1 div.sk-parallel-item {\n",
       "  display: flex;\n",
       "  flex-direction: column;\n",
       "}\n",
       "\n",
       "#sk-container-id-1 div.sk-parallel-item:first-child::after {\n",
       "  align-self: flex-end;\n",
       "  width: 50%;\n",
       "}\n",
       "\n",
       "#sk-container-id-1 div.sk-parallel-item:last-child::after {\n",
       "  align-self: flex-start;\n",
       "  width: 50%;\n",
       "}\n",
       "\n",
       "#sk-container-id-1 div.sk-parallel-item:only-child::after {\n",
       "  width: 0;\n",
       "}\n",
       "\n",
       "/* Serial-specific style estimator block */\n",
       "\n",
       "#sk-container-id-1 div.sk-serial {\n",
       "  display: flex;\n",
       "  flex-direction: column;\n",
       "  align-items: center;\n",
       "  background-color: var(--sklearn-color-background);\n",
       "  padding-right: 1em;\n",
       "  padding-left: 1em;\n",
       "}\n",
       "\n",
       "\n",
       "/* Toggleable style: style used for estimator/Pipeline/ColumnTransformer box that is\n",
       "clickable and can be expanded/collapsed.\n",
       "- Pipeline and ColumnTransformer use this feature and define the default style\n",
       "- Estimators will overwrite some part of the style using the `sk-estimator` class\n",
       "*/\n",
       "\n",
       "/* Pipeline and ColumnTransformer style (default) */\n",
       "\n",
       "#sk-container-id-1 div.sk-toggleable {\n",
       "  /* Default theme specific background. It is overwritten whether we have a\n",
       "  specific estimator or a Pipeline/ColumnTransformer */\n",
       "  background-color: var(--sklearn-color-background);\n",
       "}\n",
       "\n",
       "/* Toggleable label */\n",
       "#sk-container-id-1 label.sk-toggleable__label {\n",
       "  cursor: pointer;\n",
       "  display: flex;\n",
       "  width: 100%;\n",
       "  margin-bottom: 0;\n",
       "  padding: 0.5em;\n",
       "  box-sizing: border-box;\n",
       "  text-align: center;\n",
       "  align-items: start;\n",
       "  justify-content: space-between;\n",
       "  gap: 0.5em;\n",
       "}\n",
       "\n",
       "#sk-container-id-1 label.sk-toggleable__label .caption {\n",
       "  font-size: 0.6rem;\n",
       "  font-weight: lighter;\n",
       "  color: var(--sklearn-color-text-muted);\n",
       "}\n",
       "\n",
       "#sk-container-id-1 label.sk-toggleable__label-arrow:before {\n",
       "  /* Arrow on the left of the label */\n",
       "  content: \"▸\";\n",
       "  float: left;\n",
       "  margin-right: 0.25em;\n",
       "  color: var(--sklearn-color-icon);\n",
       "}\n",
       "\n",
       "#sk-container-id-1 label.sk-toggleable__label-arrow:hover:before {\n",
       "  color: var(--sklearn-color-text);\n",
       "}\n",
       "\n",
       "/* Toggleable content - dropdown */\n",
       "\n",
       "#sk-container-id-1 div.sk-toggleable__content {\n",
       "  max-height: 0;\n",
       "  max-width: 0;\n",
       "  overflow: hidden;\n",
       "  text-align: left;\n",
       "  /* unfitted */\n",
       "  background-color: var(--sklearn-color-unfitted-level-0);\n",
       "}\n",
       "\n",
       "#sk-container-id-1 div.sk-toggleable__content.fitted {\n",
       "  /* fitted */\n",
       "  background-color: var(--sklearn-color-fitted-level-0);\n",
       "}\n",
       "\n",
       "#sk-container-id-1 div.sk-toggleable__content pre {\n",
       "  margin: 0.2em;\n",
       "  border-radius: 0.25em;\n",
       "  color: var(--sklearn-color-text);\n",
       "  /* unfitted */\n",
       "  background-color: var(--sklearn-color-unfitted-level-0);\n",
       "}\n",
       "\n",
       "#sk-container-id-1 div.sk-toggleable__content.fitted pre {\n",
       "  /* unfitted */\n",
       "  background-color: var(--sklearn-color-fitted-level-0);\n",
       "}\n",
       "\n",
       "#sk-container-id-1 input.sk-toggleable__control:checked~div.sk-toggleable__content {\n",
       "  /* Expand drop-down */\n",
       "  max-height: 200px;\n",
       "  max-width: 100%;\n",
       "  overflow: auto;\n",
       "}\n",
       "\n",
       "#sk-container-id-1 input.sk-toggleable__control:checked~label.sk-toggleable__label-arrow:before {\n",
       "  content: \"▾\";\n",
       "}\n",
       "\n",
       "/* Pipeline/ColumnTransformer-specific style */\n",
       "\n",
       "#sk-container-id-1 div.sk-label input.sk-toggleable__control:checked~label.sk-toggleable__label {\n",
       "  color: var(--sklearn-color-text);\n",
       "  background-color: var(--sklearn-color-unfitted-level-2);\n",
       "}\n",
       "\n",
       "#sk-container-id-1 div.sk-label.fitted input.sk-toggleable__control:checked~label.sk-toggleable__label {\n",
       "  background-color: var(--sklearn-color-fitted-level-2);\n",
       "}\n",
       "\n",
       "/* Estimator-specific style */\n",
       "\n",
       "/* Colorize estimator box */\n",
       "#sk-container-id-1 div.sk-estimator input.sk-toggleable__control:checked~label.sk-toggleable__label {\n",
       "  /* unfitted */\n",
       "  background-color: var(--sklearn-color-unfitted-level-2);\n",
       "}\n",
       "\n",
       "#sk-container-id-1 div.sk-estimator.fitted input.sk-toggleable__control:checked~label.sk-toggleable__label {\n",
       "  /* fitted */\n",
       "  background-color: var(--sklearn-color-fitted-level-2);\n",
       "}\n",
       "\n",
       "#sk-container-id-1 div.sk-label label.sk-toggleable__label,\n",
       "#sk-container-id-1 div.sk-label label {\n",
       "  /* The background is the default theme color */\n",
       "  color: var(--sklearn-color-text-on-default-background);\n",
       "}\n",
       "\n",
       "/* On hover, darken the color of the background */\n",
       "#sk-container-id-1 div.sk-label:hover label.sk-toggleable__label {\n",
       "  color: var(--sklearn-color-text);\n",
       "  background-color: var(--sklearn-color-unfitted-level-2);\n",
       "}\n",
       "\n",
       "/* Label box, darken color on hover, fitted */\n",
       "#sk-container-id-1 div.sk-label.fitted:hover label.sk-toggleable__label.fitted {\n",
       "  color: var(--sklearn-color-text);\n",
       "  background-color: var(--sklearn-color-fitted-level-2);\n",
       "}\n",
       "\n",
       "/* Estimator label */\n",
       "\n",
       "#sk-container-id-1 div.sk-label label {\n",
       "  font-family: monospace;\n",
       "  font-weight: bold;\n",
       "  display: inline-block;\n",
       "  line-height: 1.2em;\n",
       "}\n",
       "\n",
       "#sk-container-id-1 div.sk-label-container {\n",
       "  text-align: center;\n",
       "}\n",
       "\n",
       "/* Estimator-specific */\n",
       "#sk-container-id-1 div.sk-estimator {\n",
       "  font-family: monospace;\n",
       "  border: 1px dotted var(--sklearn-color-border-box);\n",
       "  border-radius: 0.25em;\n",
       "  box-sizing: border-box;\n",
       "  margin-bottom: 0.5em;\n",
       "  /* unfitted */\n",
       "  background-color: var(--sklearn-color-unfitted-level-0);\n",
       "}\n",
       "\n",
       "#sk-container-id-1 div.sk-estimator.fitted {\n",
       "  /* fitted */\n",
       "  background-color: var(--sklearn-color-fitted-level-0);\n",
       "}\n",
       "\n",
       "/* on hover */\n",
       "#sk-container-id-1 div.sk-estimator:hover {\n",
       "  /* unfitted */\n",
       "  background-color: var(--sklearn-color-unfitted-level-2);\n",
       "}\n",
       "\n",
       "#sk-container-id-1 div.sk-estimator.fitted:hover {\n",
       "  /* fitted */\n",
       "  background-color: var(--sklearn-color-fitted-level-2);\n",
       "}\n",
       "\n",
       "/* Specification for estimator info (e.g. \"i\" and \"?\") */\n",
       "\n",
       "/* Common style for \"i\" and \"?\" */\n",
       "\n",
       ".sk-estimator-doc-link,\n",
       "a:link.sk-estimator-doc-link,\n",
       "a:visited.sk-estimator-doc-link {\n",
       "  float: right;\n",
       "  font-size: smaller;\n",
       "  line-height: 1em;\n",
       "  font-family: monospace;\n",
       "  background-color: var(--sklearn-color-background);\n",
       "  border-radius: 1em;\n",
       "  height: 1em;\n",
       "  width: 1em;\n",
       "  text-decoration: none !important;\n",
       "  margin-left: 0.5em;\n",
       "  text-align: center;\n",
       "  /* unfitted */\n",
       "  border: var(--sklearn-color-unfitted-level-1) 1pt solid;\n",
       "  color: var(--sklearn-color-unfitted-level-1);\n",
       "}\n",
       "\n",
       ".sk-estimator-doc-link.fitted,\n",
       "a:link.sk-estimator-doc-link.fitted,\n",
       "a:visited.sk-estimator-doc-link.fitted {\n",
       "  /* fitted */\n",
       "  border: var(--sklearn-color-fitted-level-1) 1pt solid;\n",
       "  color: var(--sklearn-color-fitted-level-1);\n",
       "}\n",
       "\n",
       "/* On hover */\n",
       "div.sk-estimator:hover .sk-estimator-doc-link:hover,\n",
       ".sk-estimator-doc-link:hover,\n",
       "div.sk-label-container:hover .sk-estimator-doc-link:hover,\n",
       ".sk-estimator-doc-link:hover {\n",
       "  /* unfitted */\n",
       "  background-color: var(--sklearn-color-unfitted-level-3);\n",
       "  color: var(--sklearn-color-background);\n",
       "  text-decoration: none;\n",
       "}\n",
       "\n",
       "div.sk-estimator.fitted:hover .sk-estimator-doc-link.fitted:hover,\n",
       ".sk-estimator-doc-link.fitted:hover,\n",
       "div.sk-label-container:hover .sk-estimator-doc-link.fitted:hover,\n",
       ".sk-estimator-doc-link.fitted:hover {\n",
       "  /* fitted */\n",
       "  background-color: var(--sklearn-color-fitted-level-3);\n",
       "  color: var(--sklearn-color-background);\n",
       "  text-decoration: none;\n",
       "}\n",
       "\n",
       "/* Span, style for the box shown on hovering the info icon */\n",
       ".sk-estimator-doc-link span {\n",
       "  display: none;\n",
       "  z-index: 9999;\n",
       "  position: relative;\n",
       "  font-weight: normal;\n",
       "  right: .2ex;\n",
       "  padding: .5ex;\n",
       "  margin: .5ex;\n",
       "  width: min-content;\n",
       "  min-width: 20ex;\n",
       "  max-width: 50ex;\n",
       "  color: var(--sklearn-color-text);\n",
       "  box-shadow: 2pt 2pt 4pt #999;\n",
       "  /* unfitted */\n",
       "  background: var(--sklearn-color-unfitted-level-0);\n",
       "  border: .5pt solid var(--sklearn-color-unfitted-level-3);\n",
       "}\n",
       "\n",
       ".sk-estimator-doc-link.fitted span {\n",
       "  /* fitted */\n",
       "  background: var(--sklearn-color-fitted-level-0);\n",
       "  border: var(--sklearn-color-fitted-level-3);\n",
       "}\n",
       "\n",
       ".sk-estimator-doc-link:hover span {\n",
       "  display: block;\n",
       "}\n",
       "\n",
       "/* \"?\"-specific style due to the `<a>` HTML tag */\n",
       "\n",
       "#sk-container-id-1 a.estimator_doc_link {\n",
       "  float: right;\n",
       "  font-size: 1rem;\n",
       "  line-height: 1em;\n",
       "  font-family: monospace;\n",
       "  background-color: var(--sklearn-color-background);\n",
       "  border-radius: 1rem;\n",
       "  height: 1rem;\n",
       "  width: 1rem;\n",
       "  text-decoration: none;\n",
       "  /* unfitted */\n",
       "  color: var(--sklearn-color-unfitted-level-1);\n",
       "  border: var(--sklearn-color-unfitted-level-1) 1pt solid;\n",
       "}\n",
       "\n",
       "#sk-container-id-1 a.estimator_doc_link.fitted {\n",
       "  /* fitted */\n",
       "  border: var(--sklearn-color-fitted-level-1) 1pt solid;\n",
       "  color: var(--sklearn-color-fitted-level-1);\n",
       "}\n",
       "\n",
       "/* On hover */\n",
       "#sk-container-id-1 a.estimator_doc_link:hover {\n",
       "  /* unfitted */\n",
       "  background-color: var(--sklearn-color-unfitted-level-3);\n",
       "  color: var(--sklearn-color-background);\n",
       "  text-decoration: none;\n",
       "}\n",
       "\n",
       "#sk-container-id-1 a.estimator_doc_link.fitted:hover {\n",
       "  /* fitted */\n",
       "  background-color: var(--sklearn-color-fitted-level-3);\n",
       "}\n",
       "</style><div id=\"sk-container-id-1\" class=\"sk-top-container\"><div class=\"sk-text-repr-fallback\"><pre>RandomForestRegressor(random_state=42)</pre><b>In a Jupyter environment, please rerun this cell to show the HTML representation or trust the notebook. <br />On GitHub, the HTML representation is unable to render, please try loading this page with nbviewer.org.</b></div><div class=\"sk-container\" hidden><div class=\"sk-item\"><div class=\"sk-estimator fitted sk-toggleable\"><input class=\"sk-toggleable__control sk-hidden--visually\" id=\"sk-estimator-id-1\" type=\"checkbox\" checked><label for=\"sk-estimator-id-1\" class=\"sk-toggleable__label fitted sk-toggleable__label-arrow\"><div><div>RandomForestRegressor</div></div><div><a class=\"sk-estimator-doc-link fitted\" rel=\"noreferrer\" target=\"_blank\" href=\"https://scikit-learn.org/1.6/modules/generated/sklearn.ensemble.RandomForestRegressor.html\">?<span>Documentation for RandomForestRegressor</span></a><span class=\"sk-estimator-doc-link fitted\">i<span>Fitted</span></span></div></label><div class=\"sk-toggleable__content fitted\"><pre>RandomForestRegressor(random_state=42)</pre></div> </div></div></div></div>"
      ],
      "text/plain": [
       "RandomForestRegressor(random_state=42)"
      ]
     },
     "execution_count": 99,
     "metadata": {},
     "output_type": "execute_result"
    }
   ],
   "source": [
    "feature_names=[f\" feature {i}\" for i in range ((x.shape[1]))]\n",
    "forest=RandomForestRegressor(random_state=42)\n",
    "forest.fit(x_train,y_train)"
   ]
  },
  {
   "cell_type": "code",
   "execution_count": 100,
   "id": "31188ac2-65d4-4130-bf89-62a95e858507",
   "metadata": {},
   "outputs": [
    {
     "data": {
      "application/javascript": [
       "\n",
       "        if (window._pyforest_update_imports_cell) { window._pyforest_update_imports_cell('from sklearn.ensemble import RandomForestRegressor\\nimport matplotlib.pyplot as plt'); }\n",
       "    "
      ],
      "text/plain": [
       "<IPython.core.display.Javascript object>"
      ]
     },
     "metadata": {},
     "output_type": "display_data"
    },
    {
     "data": {
      "image/png": "[encoded data removed]",
      "text/plain": [
       "<Figure size 1500x1200 with 1 Axes>"
      ]
     },
     "metadata": {},
     "output_type": "display_data"
    }
   ],
   "source": [
    "feat={}\n",
    "for feature, importance in zip(x.columns, forest.feature_importances_):\n",
    "    feat[feature]=importance\n",
    "importances=pd.DataFrame.from_dict(feat, orient='index').rename(columns={0: 'Gini-importance'})\n",
    "importances.sort_values(by='Gini-importance').plot(kind='bar', rot=90, figsize=(15,12))\n",
    "plt.show()"
   ]
  },
  {
   "cell_type": "code",
   "execution_count": 101,
   "id": "58871c22-7491-4ce6-8acd-0ba85aab7d44",
   "metadata": {},
   "outputs": [
    {
     "data": {
      "application/javascript": [
       "\n",
       "        if (window._pyforest_update_imports_cell) { window._pyforest_update_imports_cell('from sklearn.ensemble import RandomForestRegressor\\nimport matplotlib.pyplot as plt'); }\n",
       "    "
      ],
      "text/plain": [
       "<IPython.core.display.Javascript object>"
      ]
     },
     "metadata": {},
     "output_type": "display_data"
    },
    {
     "data": {
      "application/javascript": [
       "\n",
       "        if (window._pyforest_update_imports_cell) { window._pyforest_update_imports_cell('from sklearn.ensemble import RandomForestRegressor\\nimport matplotlib.pyplot as plt'); }\n",
       "    "
      ],
      "text/plain": [
       "<IPython.core.display.Javascript object>"
      ]
     },
     "metadata": {},
     "output_type": "display_data"
    },
    {
     "data": {
      "image/png": "[encoded data removed]",
      "text/plain": [
       "<Figure size 1500x500 with 1 Axes>"
      ]
     },
     "metadata": {},
     "output_type": "display_data"
    }
   ],
   "source": [
    "importances.sort_values(by='Gini-importance', ascending=False).plot(kind='bar', figsize=(15,5))\n",
    "plt.axhline(y=0.001, color='red', linestyle='--')  # visualize threshold\n",
    "plt.show()\n"
   ]
  },
  {
   "cell_type": "raw",
   "id": "240e9b15-7bb0-4068-a0d4-1725629c473f",
   "metadata": {},
   "source": [
    "to drop: as weekend and working are perfectly correlated dropping working, dropping(total_busy_dashers, total_onshift_dasher) as driver busy ratio is already calculated based on these 2 features, dropping(evening)"
   ]
  },
  {
   "cell_type": "code",
   "execution_count": 102,
   "id": "15aedf4d-f2bb-4181-92b7-06957f3557a5",
   "metadata": {},
   "outputs": [
    {
     "data": {
      "text/plain": [
       "(174303, 91)"
      ]
     },
     "execution_count": 102,
     "metadata": {},
     "output_type": "execute_result"
    }
   ],
   "source": [
    "data.shape"
   ]
  },
  {
   "cell_type": "code",
   "execution_count": 103,
   "id": "0d1ed641-a87a-4a15-b27b-053d1e091ccd",
   "metadata": {},
   "outputs": [],
   "source": [
    "low_imp_features = importances[importances['Gini-importance'] < 0.001].index.tolist()\n",
    "\n",
    "# Drop them from your data\n",
    "data1 = data.drop(columns=low_imp_features)"
   ]
  },
  {
   "cell_type": "code",
   "execution_count": 104,
   "id": "c68cbb42-aec8-4791-9ae9-b8b5c2270ca2",
   "metadata": {},
   "outputs": [],
   "source": [
    "data1=data1.drop(columns=['working','total_busy_dashers','total_onshift_dashers','evening'])"
   ]
  },
  {
   "cell_type": "code",
   "execution_count": 105,
   "id": "e0ccb629-f38b-4905-bbb8-d570f0b346b3",
   "metadata": {},
   "outputs": [
    {
     "data": {
      "text/plain": [
       "(174303, 41)"
      ]
     },
     "execution_count": 105,
     "metadata": {},
     "output_type": "execute_result"
    }
   ],
   "source": [
    "data1.shape"
   ]
  },
  {
   "cell_type": "code",
   "execution_count": 106,
   "id": "2cbe40f7-ef85-4593-986a-c42a1e8706dc",
   "metadata": {},
   "outputs": [
    {
     "data": {
      "text/plain": [
       "count    139442.000000\n",
       "mean         47.607140\n",
       "std          24.255152\n",
       "min           1.683333\n",
       "25%          35.033333\n",
       "50%          44.283333\n",
       "75%          56.216667\n",
       "max        5541.366667\n",
       "Name: delivery_duration, dtype: float64"
      ]
     },
     "execution_count": 106,
     "metadata": {},
     "output_type": "execute_result"
    }
   ],
   "source": [
    "y_train.describe() "
   ]
  },
  {
   "cell_type": "markdown",
   "id": "0c3fd1af-68bd-415e-8cca-9e5270e55dc4",
   "metadata": {},
   "source": [
    "## neural network"
   ]
  },
  {
   "cell_type": "code",
   "execution_count": 107,
   "id": "903d0e49-aa17-4eae-b0f7-3fd47911d80e",
   "metadata": {},
   "outputs": [],
   "source": [
    "import keras\n",
    "from keras.optimizers import Adam\n",
    "from keras.models import Sequential\n",
    "from keras.layers import Dense\n",
    "import tensorflow as tf\n",
    "tf.random.set_seed(42)"
   ]
  },
  {
   "cell_type": "code",
   "execution_count": 108,
   "id": "b81d3b9a-f31f-4196-8bfd-b51e1975b739",
   "metadata": {},
   "outputs": [],
   "source": [
    "#neural network\n",
    "def create_model(feature_set_size):\n",
    "    model=Sequential()\n",
    "    model.add(Dense(64,input_dim=feature_set_size,activation='relu'))\n",
    "    model.add(Dense(32,activation='relu'))\n",
    "    model.add(Dense(1, activation='linear'))\n",
    "\n",
    "    model.compile(optimizer=Adam(learning_rate=0.001), loss='mse',\n",
    "                  metrics=[tf.keras.metrics.RootMeanSquaredError()])\n",
    "    return model "
   ]
  },
  {
   "cell_type": "code",
   "execution_count": 109,
   "id": "d27d8412-d5b8-4feb-abf4-751bbfe96d29",
   "metadata": {},
   "outputs": [],
   "source": [
    "from sklearn.preprocessing import StandardScaler\n",
    "from sklearn.model_selection import train_test_split"
   ]
  },
  {
   "cell_type": "code",
   "execution_count": 110,
   "id": "e044f244-cb4c-4206-ac14-f946fb6040c7",
   "metadata": {},
   "outputs": [],
   "source": [
    "x=data1.drop(columns=['delivery_duration'])\n",
    "y=data1['delivery_duration']\n",
    "x_train,x_test,y_train,y_test=train_test_split(x,y,test_size=0.2,random_state=42)"
   ]
  },
  {
   "cell_type": "code",
   "execution_count": 111,
   "id": "a5dd8008-d882-4de8-8416-961a4bd1821c",
   "metadata": {},
   "outputs": [],
   "source": [
    "scaler=StandardScaler()\n",
    "x_train_scaled=scaler.fit_transform(x_train)\n",
    "x_test_scaled=scaler.transform(x_test)"
   ]
  },
  {
   "cell_type": "code",
   "execution_count": 112,
   "id": "51aed0b2-9b1a-4fc1-a64b-7509cdbe8bd4",
   "metadata": {},
   "outputs": [
    {
     "name": "stderr",
     "output_type": "stream",
     "text": [
      "C:\\Users\\user\\anaconda3\\Lib\\site-packages\\keras\\src\\layers\\core\\dense.py:87: UserWarning: Do not pass an `input_shape`/`input_dim` argument to a layer. When using Sequential models, prefer using an `Input(shape)` object as the first layer in the model instead.\n",
      "  super().__init__(activity_regularizer=activity_regularizer, **kwargs)\n"
     ]
    }
   ],
   "source": [
    "feature_set_size=x_train_scaled.shape[1]\n",
    "model=create_model(feature_set_size)"
   ]
  },
  {
   "cell_type": "code",
   "execution_count": 113,
   "id": "d010757c-1133-42d0-a8bf-a35aad9b9e22",
   "metadata": {},
   "outputs": [
    {
     "data": {
      "application/javascript": [
       "\n",
       "        if (window._pyforest_update_imports_cell) { window._pyforest_update_imports_cell('import numpy as np\\nfrom sklearn.ensemble import RandomForestRegressor\\nimport matplotlib.pyplot as plt'); }\n",
       "    "
      ],
      "text/plain": [
       "<IPython.core.display.Javascript object>"
      ]
     },
     "metadata": {},
     "output_type": "display_data"
    },
    {
     "data": {
      "application/javascript": [
       "\n",
       "        if (window._pyforest_update_imports_cell) { window._pyforest_update_imports_cell('import numpy as np\\nfrom sklearn.ensemble import RandomForestRegressor\\nimport matplotlib.pyplot as plt'); }\n",
       "    "
      ],
      "text/plain": [
       "<IPython.core.display.Javascript object>"
      ]
     },
     "metadata": {},
     "output_type": "display_data"
    },
    {
     "name": "stdout",
     "output_type": "stream",
     "text": [
      "Epoch 1/100\n",
      "\u001b[1m4358/4358\u001b[0m \u001b[32m━━━━━━━━━━━━━━━━━━━━\u001b[0m\u001b[37m\u001b[0m \u001b[1m8s\u001b[0m 1ms/step - loss: 0.3508 - root_mean_squared_error: 0.5367\n",
      "Epoch 2/100\n",
      "\u001b[1m4358/4358\u001b[0m \u001b[32m━━━━━━━━━━━━━━━━━━━━\u001b[0m\u001b[37m\u001b[0m \u001b[1m6s\u001b[0m 1ms/step - loss: 0.1054 - root_mean_squared_error: 0.3246\n",
      "Epoch 3/100\n",
      "\u001b[1m4358/4358\u001b[0m \u001b[32m━━━━━━━━━━━━━━━━━━━━\u001b[0m\u001b[37m\u001b[0m \u001b[1m6s\u001b[0m 1ms/step - loss: 0.1028 - root_mean_squared_error: 0.3206\n",
      "Epoch 4/100\n",
      "\u001b[1m4358/4358\u001b[0m \u001b[32m━━━━━━━━━━━━━━━━━━━━\u001b[0m\u001b[37m\u001b[0m \u001b[1m7s\u001b[0m 2ms/step - loss: 0.1010 - root_mean_squared_error: 0.3179\n",
      "Epoch 5/100\n",
      "\u001b[1m4358/4358\u001b[0m \u001b[32m━━━━━━━━━━━━━━━━━━━━\u001b[0m\u001b[37m\u001b[0m \u001b[1m6s\u001b[0m 1ms/step - loss: 0.0995 - root_mean_squared_error: 0.3154\n",
      "Epoch 6/100\n",
      "\u001b[1m4358/4358\u001b[0m \u001b[32m━━━━━━━━━━━━━━━━━━━━\u001b[0m\u001b[37m\u001b[0m \u001b[1m6s\u001b[0m 1ms/step - loss: 0.0984 - root_mean_squared_error: 0.3137\n",
      "Epoch 7/100\n",
      "\u001b[1m4358/4358\u001b[0m \u001b[32m━━━━━━━━━━━━━━━━━━━━\u001b[0m\u001b[37m\u001b[0m \u001b[1m6s\u001b[0m 1ms/step - loss: 0.0979 - root_mean_squared_error: 0.3128\n",
      "Epoch 8/100\n",
      "\u001b[1m4358/4358\u001b[0m \u001b[32m━━━━━━━━━━━━━━━━━━━━\u001b[0m\u001b[37m\u001b[0m \u001b[1m6s\u001b[0m 1ms/step - loss: 0.0973 - root_mean_squared_error: 0.3119\n",
      "Epoch 9/100\n",
      "\u001b[1m4358/4358\u001b[0m \u001b[32m━━━━━━━━━━━━━━━━━━━━\u001b[0m\u001b[37m\u001b[0m \u001b[1m6s\u001b[0m 1ms/step - loss: 0.0969 - root_mean_squared_error: 0.3112\n",
      "Epoch 10/100\n",
      "\u001b[1m4358/4358\u001b[0m \u001b[32m━━━━━━━━━━━━━━━━━━━━\u001b[0m\u001b[37m\u001b[0m \u001b[1m6s\u001b[0m 1ms/step - loss: 0.0965 - root_mean_squared_error: 0.3106\n",
      "Epoch 11/100\n",
      "\u001b[1m4358/4358\u001b[0m \u001b[32m━━━━━━━━━━━━━━━━━━━━\u001b[0m\u001b[37m\u001b[0m \u001b[1m6s\u001b[0m 1ms/step - loss: 0.0962 - root_mean_squared_error: 0.3101\n",
      "Epoch 12/100\n",
      "\u001b[1m4358/4358\u001b[0m \u001b[32m━━━━━━━━━━━━━━━━━━━━\u001b[0m\u001b[37m\u001b[0m \u001b[1m6s\u001b[0m 1ms/step - loss: 0.0959 - root_mean_squared_error: 0.3097\n",
      "Epoch 13/100\n",
      "\u001b[1m4358/4358\u001b[0m \u001b[32m━━━━━━━━━━━━━━━━━━━━\u001b[0m\u001b[37m\u001b[0m \u001b[1m6s\u001b[0m 1ms/step - loss: 0.0957 - root_mean_squared_error: 0.3093\n",
      "Epoch 14/100\n",
      "\u001b[1m4358/4358\u001b[0m \u001b[32m━━━━━━━━━━━━━━━━━━━━\u001b[0m\u001b[37m\u001b[0m \u001b[1m7s\u001b[0m 2ms/step - loss: 0.0955 - root_mean_squared_error: 0.3090\n",
      "Epoch 15/100\n",
      "\u001b[1m4358/4358\u001b[0m \u001b[32m━━━━━━━━━━━━━━━━━━━━\u001b[0m\u001b[37m\u001b[0m \u001b[1m6s\u001b[0m 1ms/step - loss: 0.0953 - root_mean_squared_error: 0.3087\n",
      "Epoch 16/100\n",
      "\u001b[1m4358/4358\u001b[0m \u001b[32m━━━━━━━━━━━━━━━━━━━━\u001b[0m\u001b[37m\u001b[0m \u001b[1m6s\u001b[0m 1ms/step - loss: 0.0951 - root_mean_squared_error: 0.3084\n",
      "Epoch 17/100\n",
      "\u001b[1m4358/4358\u001b[0m \u001b[32m━━━━━━━━━━━━━━━━━━━━\u001b[0m\u001b[37m\u001b[0m \u001b[1m7s\u001b[0m 2ms/step - loss: 0.0949 - root_mean_squared_error: 0.3081\n",
      "Epoch 18/100\n",
      "\u001b[1m4358/4358\u001b[0m \u001b[32m━━━━━━━━━━━━━━━━━━━━\u001b[0m\u001b[37m\u001b[0m \u001b[1m6s\u001b[0m 1ms/step - loss: 0.0948 - root_mean_squared_error: 0.3078\n",
      "Epoch 19/100\n",
      "\u001b[1m4358/4358\u001b[0m \u001b[32m━━━━━━━━━━━━━━━━━━━━\u001b[0m\u001b[37m\u001b[0m \u001b[1m6s\u001b[0m 1ms/step - loss: 0.0946 - root_mean_squared_error: 0.3076\n",
      "Epoch 20/100\n",
      "\u001b[1m4358/4358\u001b[0m \u001b[32m━━━━━━━━━━━━━━━━━━━━\u001b[0m\u001b[37m\u001b[0m \u001b[1m8s\u001b[0m 2ms/step - loss: 0.0944 - root_mean_squared_error: 0.3072\n",
      "Epoch 21/100\n",
      "\u001b[1m4358/4358\u001b[0m \u001b[32m━━━━━━━━━━━━━━━━━━━━\u001b[0m\u001b[37m\u001b[0m \u001b[1m6s\u001b[0m 1ms/step - loss: 0.0943 - root_mean_squared_error: 0.3070\n",
      "Epoch 22/100\n",
      "\u001b[1m4358/4358\u001b[0m \u001b[32m━━━━━━━━━━━━━━━━━━━━\u001b[0m\u001b[37m\u001b[0m \u001b[1m6s\u001b[0m 1ms/step - loss: 0.0941 - root_mean_squared_error: 0.3068\n",
      "Epoch 23/100\n",
      "\u001b[1m4358/4358\u001b[0m \u001b[32m━━━━━━━━━━━━━━━━━━━━\u001b[0m\u001b[37m\u001b[0m \u001b[1m6s\u001b[0m 1ms/step - loss: 0.0940 - root_mean_squared_error: 0.3066\n",
      "Epoch 24/100\n",
      "\u001b[1m4358/4358\u001b[0m \u001b[32m━━━━━━━━━━━━━━━━━━━━\u001b[0m\u001b[37m\u001b[0m \u001b[1m6s\u001b[0m 1ms/step - loss: 0.0939 - root_mean_squared_error: 0.3064\n",
      "Epoch 25/100\n",
      "\u001b[1m4358/4358\u001b[0m \u001b[32m━━━━━━━━━━━━━━━━━━━━\u001b[0m\u001b[37m\u001b[0m \u001b[1m6s\u001b[0m 1ms/step - loss: 0.0938 - root_mean_squared_error: 0.3062\n",
      "Epoch 26/100\n",
      "\u001b[1m4358/4358\u001b[0m \u001b[32m━━━━━━━━━━━━━━━━━━━━\u001b[0m\u001b[37m\u001b[0m \u001b[1m6s\u001b[0m 1ms/step - loss: 0.0937 - root_mean_squared_error: 0.3060\n",
      "Epoch 27/100\n",
      "\u001b[1m4358/4358\u001b[0m \u001b[32m━━━━━━━━━━━━━━━━━━━━\u001b[0m\u001b[37m\u001b[0m \u001b[1m6s\u001b[0m 1ms/step - loss: 0.0936 - root_mean_squared_error: 0.3059\n",
      "Epoch 28/100\n",
      "\u001b[1m4358/4358\u001b[0m \u001b[32m━━━━━━━━━━━━━━━━━━━━\u001b[0m\u001b[37m\u001b[0m \u001b[1m6s\u001b[0m 1ms/step - loss: 0.0935 - root_mean_squared_error: 0.3057\n",
      "Epoch 29/100\n",
      "\u001b[1m4358/4358\u001b[0m \u001b[32m━━━━━━━━━━━━━━━━━━━━\u001b[0m\u001b[37m\u001b[0m \u001b[1m7s\u001b[0m 2ms/step - loss: 0.0934 - root_mean_squared_error: 0.3056\n",
      "Epoch 30/100\n",
      "\u001b[1m4358/4358\u001b[0m \u001b[32m━━━━━━━━━━━━━━━━━━━━\u001b[0m\u001b[37m\u001b[0m \u001b[1m6s\u001b[0m 1ms/step - loss: 0.0932 - root_mean_squared_error: 0.3053\n",
      "Epoch 31/100\n",
      "\u001b[1m4358/4358\u001b[0m \u001b[32m━━━━━━━━━━━━━━━━━━━━\u001b[0m\u001b[37m\u001b[0m \u001b[1m7s\u001b[0m 2ms/step - loss: 0.0932 - root_mean_squared_error: 0.3052\n",
      "Epoch 32/100\n",
      "\u001b[1m4358/4358\u001b[0m \u001b[32m━━━━━━━━━━━━━━━━━━━━\u001b[0m\u001b[37m\u001b[0m \u001b[1m6s\u001b[0m 1ms/step - loss: 0.0931 - root_mean_squared_error: 0.3051\n",
      "Epoch 33/100\n",
      "\u001b[1m4358/4358\u001b[0m \u001b[32m━━━━━━━━━━━━━━━━━━━━\u001b[0m\u001b[37m\u001b[0m \u001b[1m6s\u001b[0m 1ms/step - loss: 0.0929 - root_mean_squared_error: 0.3049\n",
      "Epoch 34/100\n",
      "\u001b[1m4358/4358\u001b[0m \u001b[32m━━━━━━━━━━━━━━━━━━━━\u001b[0m\u001b[37m\u001b[0m \u001b[1m6s\u001b[0m 1ms/step - loss: 0.0929 - root_mean_squared_error: 0.3048\n",
      "Epoch 35/100\n",
      "\u001b[1m4358/4358\u001b[0m \u001b[32m━━━━━━━━━━━━━━━━━━━━\u001b[0m\u001b[37m\u001b[0m \u001b[1m7s\u001b[0m 2ms/step - loss: 0.0928 - root_mean_squared_error: 0.3047\n",
      "Epoch 36/100\n",
      "\u001b[1m4358/4358\u001b[0m \u001b[32m━━━━━━━━━━━━━━━━━━━━\u001b[0m\u001b[37m\u001b[0m \u001b[1m6s\u001b[0m 1ms/step - loss: 0.0928 - root_mean_squared_error: 0.3046\n",
      "Epoch 37/100\n",
      "\u001b[1m4358/4358\u001b[0m \u001b[32m━━━━━━━━━━━━━━━━━━━━\u001b[0m\u001b[37m\u001b[0m \u001b[1m6s\u001b[0m 1ms/step - loss: 0.0927 - root_mean_squared_error: 0.3044\n",
      "Epoch 38/100\n",
      "\u001b[1m4358/4358\u001b[0m \u001b[32m━━━━━━━━━━━━━━━━━━━━\u001b[0m\u001b[37m\u001b[0m \u001b[1m6s\u001b[0m 1ms/step - loss: 0.0926 - root_mean_squared_error: 0.3042\n",
      "Epoch 39/100\n",
      "\u001b[1m4358/4358\u001b[0m \u001b[32m━━━━━━━━━━━━━━━━━━━━\u001b[0m\u001b[37m\u001b[0m \u001b[1m6s\u001b[0m 1ms/step - loss: 0.0925 - root_mean_squared_error: 0.3041\n",
      "Epoch 40/100\n",
      "\u001b[1m4358/4358\u001b[0m \u001b[32m━━━━━━━━━━━━━━━━━━━━\u001b[0m\u001b[37m\u001b[0m \u001b[1m7s\u001b[0m 2ms/step - loss: 0.0924 - root_mean_squared_error: 0.3039\n",
      "Epoch 41/100\n",
      "\u001b[1m4358/4358\u001b[0m \u001b[32m━━━━━━━━━━━━━━━━━━━━\u001b[0m\u001b[37m\u001b[0m \u001b[1m6s\u001b[0m 1ms/step - loss: 0.0923 - root_mean_squared_error: 0.3038\n",
      "Epoch 42/100\n",
      "\u001b[1m4358/4358\u001b[0m \u001b[32m━━━━━━━━━━━━━━━━━━━━\u001b[0m\u001b[37m\u001b[0m \u001b[1m6s\u001b[0m 1ms/step - loss: 0.0922 - root_mean_squared_error: 0.3036\n",
      "Epoch 43/100\n",
      "\u001b[1m4358/4358\u001b[0m \u001b[32m━━━━━━━━━━━━━━━━━━━━\u001b[0m\u001b[37m\u001b[0m \u001b[1m6s\u001b[0m 1ms/step - loss: 0.0922 - root_mean_squared_error: 0.3036\n",
      "Epoch 44/100\n",
      "\u001b[1m4358/4358\u001b[0m \u001b[32m━━━━━━━━━━━━━━━━━━━━\u001b[0m\u001b[37m\u001b[0m \u001b[1m6s\u001b[0m 1ms/step - loss: 0.0921 - root_mean_squared_error: 0.3035\n",
      "Epoch 45/100\n",
      "\u001b[1m4358/4358\u001b[0m \u001b[32m━━━━━━━━━━━━━━━━━━━━\u001b[0m\u001b[37m\u001b[0m \u001b[1m6s\u001b[0m 1ms/step - loss: 0.0921 - root_mean_squared_error: 0.3035\n",
      "Epoch 46/100\n",
      "\u001b[1m4358/4358\u001b[0m \u001b[32m━━━━━━━━━━━━━━━━━━━━\u001b[0m\u001b[37m\u001b[0m \u001b[1m7s\u001b[0m 2ms/step - loss: 0.0920 - root_mean_squared_error: 0.3033\n",
      "Epoch 47/100\n",
      "\u001b[1m4358/4358\u001b[0m \u001b[32m━━━━━━━━━━━━━━━━━━━━\u001b[0m\u001b[37m\u001b[0m \u001b[1m7s\u001b[0m 2ms/step - loss: 0.0919 - root_mean_squared_error: 0.3031\n",
      "Epoch 48/100\n",
      "\u001b[1m4358/4358\u001b[0m \u001b[32m━━━━━━━━━━━━━━━━━━━━\u001b[0m\u001b[37m\u001b[0m \u001b[1m7s\u001b[0m 2ms/step - loss: 0.0918 - root_mean_squared_error: 0.3030\n",
      "Epoch 49/100\n",
      "\u001b[1m4358/4358\u001b[0m \u001b[32m━━━━━━━━━━━━━━━━━━━━\u001b[0m\u001b[37m\u001b[0m \u001b[1m6s\u001b[0m 1ms/step - loss: 0.0918 - root_mean_squared_error: 0.3029\n",
      "Epoch 50/100\n",
      "\u001b[1m4358/4358\u001b[0m \u001b[32m━━━━━━━━━━━━━━━━━━━━\u001b[0m\u001b[37m\u001b[0m \u001b[1m6s\u001b[0m 1ms/step - loss: 0.0917 - root_mean_squared_error: 0.3027\n",
      "Epoch 51/100\n",
      "\u001b[1m4358/4358\u001b[0m \u001b[32m━━━━━━━━━━━━━━━━━━━━\u001b[0m\u001b[37m\u001b[0m \u001b[1m6s\u001b[0m 1ms/step - loss: 0.0915 - root_mean_squared_error: 0.3026\n",
      "Epoch 52/100\n",
      "\u001b[1m4358/4358\u001b[0m \u001b[32m━━━━━━━━━━━━━━━━━━━━\u001b[0m\u001b[37m\u001b[0m \u001b[1m6s\u001b[0m 1ms/step - loss: 0.0915 - root_mean_squared_error: 0.3025\n",
      "Epoch 53/100\n",
      "\u001b[1m4358/4358\u001b[0m \u001b[32m━━━━━━━━━━━━━━━━━━━━\u001b[0m\u001b[37m\u001b[0m \u001b[1m6s\u001b[0m 1ms/step - loss: 0.0915 - root_mean_squared_error: 0.3024\n",
      "Epoch 54/100\n",
      "\u001b[1m4358/4358\u001b[0m \u001b[32m━━━━━━━━━━━━━━━━━━━━\u001b[0m\u001b[37m\u001b[0m \u001b[1m6s\u001b[0m 1ms/step - loss: 0.0914 - root_mean_squared_error: 0.3024\n",
      "Epoch 55/100\n",
      "\u001b[1m4358/4358\u001b[0m \u001b[32m━━━━━━━━━━━━━━━━━━━━\u001b[0m\u001b[37m\u001b[0m \u001b[1m6s\u001b[0m 1ms/step - loss: 0.0913 - root_mean_squared_error: 0.3022\n",
      "Epoch 56/100\n",
      "\u001b[1m4358/4358\u001b[0m \u001b[32m━━━━━━━━━━━━━━━━━━━━\u001b[0m\u001b[37m\u001b[0m \u001b[1m7s\u001b[0m 2ms/step - loss: 0.0913 - root_mean_squared_error: 0.3021\n",
      "Epoch 57/100\n",
      "\u001b[1m4358/4358\u001b[0m \u001b[32m━━━━━━━━━━━━━━━━━━━━\u001b[0m\u001b[37m\u001b[0m \u001b[1m6s\u001b[0m 1ms/step - loss: 0.0912 - root_mean_squared_error: 0.3021\n",
      "Epoch 58/100\n",
      "\u001b[1m4358/4358\u001b[0m \u001b[32m━━━━━━━━━━━━━━━━━━━━\u001b[0m\u001b[37m\u001b[0m \u001b[1m7s\u001b[0m 2ms/step - loss: 0.0912 - root_mean_squared_error: 0.3020\n",
      "Epoch 59/100\n",
      "\u001b[1m4358/4358\u001b[0m \u001b[32m━━━━━━━━━━━━━━━━━━━━\u001b[0m\u001b[37m\u001b[0m \u001b[1m6s\u001b[0m 1ms/step - loss: 0.0911 - root_mean_squared_error: 0.3019\n",
      "Epoch 60/100\n",
      "\u001b[1m4358/4358\u001b[0m \u001b[32m━━━━━━━━━━━━━━━━━━━━\u001b[0m\u001b[37m\u001b[0m \u001b[1m6s\u001b[0m 1ms/step - loss: 0.0911 - root_mean_squared_error: 0.3018\n",
      "Epoch 61/100\n",
      "\u001b[1m4358/4358\u001b[0m \u001b[32m━━━━━━━━━━━━━━━━━━━━\u001b[0m\u001b[37m\u001b[0m \u001b[1m6s\u001b[0m 1ms/step - loss: 0.0910 - root_mean_squared_error: 0.3017\n",
      "Epoch 62/100\n",
      "\u001b[1m4358/4358\u001b[0m \u001b[32m━━━━━━━━━━━━━━━━━━━━\u001b[0m\u001b[37m\u001b[0m \u001b[1m6s\u001b[0m 1ms/step - loss: 0.0910 - root_mean_squared_error: 0.3016\n",
      "Epoch 63/100\n",
      "\u001b[1m4358/4358\u001b[0m \u001b[32m━━━━━━━━━━━━━━━━━━━━\u001b[0m\u001b[37m\u001b[0m \u001b[1m6s\u001b[0m 1ms/step - loss: 0.0910 - root_mean_squared_error: 0.3016\n",
      "Epoch 64/100\n",
      "\u001b[1m4358/4358\u001b[0m \u001b[32m━━━━━━━━━━━━━━━━━━━━\u001b[0m\u001b[37m\u001b[0m \u001b[1m6s\u001b[0m 1ms/step - loss: 0.0909 - root_mean_squared_error: 0.3014\n",
      "Epoch 65/100\n",
      "\u001b[1m4358/4358\u001b[0m \u001b[32m━━━━━━━━━━━━━━━━━━━━\u001b[0m\u001b[37m\u001b[0m \u001b[1m6s\u001b[0m 1ms/step - loss: 0.0908 - root_mean_squared_error: 0.3013\n",
      "Epoch 66/100\n",
      "\u001b[1m4358/4358\u001b[0m \u001b[32m━━━━━━━━━━━━━━━━━━━━\u001b[0m\u001b[37m\u001b[0m \u001b[1m7s\u001b[0m 2ms/step - loss: 0.0908 - root_mean_squared_error: 0.3013\n",
      "Epoch 67/100\n",
      "\u001b[1m4358/4358\u001b[0m \u001b[32m━━━━━━━━━━━━━━━━━━━━\u001b[0m\u001b[37m\u001b[0m \u001b[1m7s\u001b[0m 2ms/step - loss: 0.0907 - root_mean_squared_error: 0.3012\n",
      "Epoch 68/100\n",
      "\u001b[1m4358/4358\u001b[0m \u001b[32m━━━━━━━━━━━━━━━━━━━━\u001b[0m\u001b[37m\u001b[0m \u001b[1m7s\u001b[0m 2ms/step - loss: 0.0906 - root_mean_squared_error: 0.3011\n",
      "Epoch 69/100\n",
      "\u001b[1m4358/4358\u001b[0m \u001b[32m━━━━━━━━━━━━━━━━━━━━\u001b[0m\u001b[37m\u001b[0m \u001b[1m7s\u001b[0m 2ms/step - loss: 0.0906 - root_mean_squared_error: 0.3011\n",
      "Epoch 70/100\n",
      "\u001b[1m4358/4358\u001b[0m \u001b[32m━━━━━━━━━━━━━━━━━━━━\u001b[0m\u001b[37m\u001b[0m \u001b[1m8s\u001b[0m 2ms/step - loss: 0.0906 - root_mean_squared_error: 0.3009\n",
      "Epoch 71/100\n",
      "\u001b[1m4358/4358\u001b[0m \u001b[32m━━━━━━━━━━━━━━━━━━━━\u001b[0m\u001b[37m\u001b[0m \u001b[1m10s\u001b[0m 2ms/step - loss: 0.0906 - root_mean_squared_error: 0.3009\n",
      "Epoch 72/100\n",
      "\u001b[1m4358/4358\u001b[0m \u001b[32m━━━━━━━━━━━━━━━━━━━━\u001b[0m\u001b[37m\u001b[0m \u001b[1m9s\u001b[0m 2ms/step - loss: 0.0905 - root_mean_squared_error: 0.3008\n",
      "Epoch 73/100\n",
      "\u001b[1m4358/4358\u001b[0m \u001b[32m━━━━━━━━━━━━━━━━━━━━\u001b[0m\u001b[37m\u001b[0m \u001b[1m8s\u001b[0m 2ms/step - loss: 0.0904 - root_mean_squared_error: 0.3007\n",
      "Epoch 74/100\n",
      "\u001b[1m4358/4358\u001b[0m \u001b[32m━━━━━━━━━━━━━━━━━━━━\u001b[0m\u001b[37m\u001b[0m \u001b[1m8s\u001b[0m 2ms/step - loss: 0.0903 - root_mean_squared_error: 0.3006\n",
      "Epoch 75/100\n",
      "\u001b[1m4358/4358\u001b[0m \u001b[32m━━━━━━━━━━━━━━━━━━━━\u001b[0m\u001b[37m\u001b[0m \u001b[1m8s\u001b[0m 2ms/step - loss: 0.0903 - root_mean_squared_error: 0.3005\n",
      "Epoch 76/100\n",
      "\u001b[1m4358/4358\u001b[0m \u001b[32m━━━━━━━━━━━━━━━━━━━━\u001b[0m\u001b[37m\u001b[0m \u001b[1m8s\u001b[0m 2ms/step - loss: 0.0903 - root_mean_squared_error: 0.3005\n",
      "Epoch 77/100\n",
      "\u001b[1m4358/4358\u001b[0m \u001b[32m━━━━━━━━━━━━━━━━━━━━\u001b[0m\u001b[37m\u001b[0m \u001b[1m8s\u001b[0m 2ms/step - loss: 0.0903 - root_mean_squared_error: 0.3004\n",
      "Epoch 78/100\n",
      "\u001b[1m4358/4358\u001b[0m \u001b[32m━━━━━━━━━━━━━━━━━━━━\u001b[0m\u001b[37m\u001b[0m \u001b[1m9s\u001b[0m 2ms/step - loss: 0.0902 - root_mean_squared_error: 0.3004\n",
      "Epoch 79/100\n",
      "\u001b[1m4358/4358\u001b[0m \u001b[32m━━━━━━━━━━━━━━━━━━━━\u001b[0m\u001b[37m\u001b[0m \u001b[1m9s\u001b[0m 2ms/step - loss: 0.0902 - root_mean_squared_error: 0.3003\n",
      "Epoch 80/100\n",
      "\u001b[1m4358/4358\u001b[0m \u001b[32m━━━━━━━━━━━━━━━━━━━━\u001b[0m\u001b[37m\u001b[0m \u001b[1m8s\u001b[0m 2ms/step - loss: 0.0902 - root_mean_squared_error: 0.3003\n",
      "Epoch 81/100\n",
      "\u001b[1m4358/4358\u001b[0m \u001b[32m━━━━━━━━━━━━━━━━━━━━\u001b[0m\u001b[37m\u001b[0m \u001b[1m6s\u001b[0m 1ms/step - loss: 0.0902 - root_mean_squared_error: 0.3003\n",
      "Epoch 82/100\n",
      "\u001b[1m4358/4358\u001b[0m \u001b[32m━━━━━━━━━━━━━━━━━━━━\u001b[0m\u001b[37m\u001b[0m \u001b[1m7s\u001b[0m 2ms/step - loss: 0.0902 - root_mean_squared_error: 0.3003\n",
      "Epoch 83/100\n",
      "\u001b[1m4358/4358\u001b[0m \u001b[32m━━━━━━━━━━━━━━━━━━━━\u001b[0m\u001b[37m\u001b[0m \u001b[1m7s\u001b[0m 2ms/step - loss: 0.0901 - root_mean_squared_error: 0.3001\n",
      "Epoch 84/100\n",
      "\u001b[1m4358/4358\u001b[0m \u001b[32m━━━━━━━━━━━━━━━━━━━━\u001b[0m\u001b[37m\u001b[0m \u001b[1m6s\u001b[0m 1ms/step - loss: 0.0901 - root_mean_squared_error: 0.3001\n",
      "Epoch 85/100\n",
      "\u001b[1m4358/4358\u001b[0m \u001b[32m━━━━━━━━━━━━━━━━━━━━\u001b[0m\u001b[37m\u001b[0m \u001b[1m7s\u001b[0m 2ms/step - loss: 0.0900 - root_mean_squared_error: 0.3000\n",
      "Epoch 86/100\n",
      "\u001b[1m4358/4358\u001b[0m \u001b[32m━━━━━━━━━━━━━━━━━━━━\u001b[0m\u001b[37m\u001b[0m \u001b[1m6s\u001b[0m 1ms/step - loss: 0.0899 - root_mean_squared_error: 0.2999\n",
      "Epoch 87/100\n",
      "\u001b[1m4358/4358\u001b[0m \u001b[32m━━━━━━━━━━━━━━━━━━━━\u001b[0m\u001b[37m\u001b[0m \u001b[1m7s\u001b[0m 2ms/step - loss: 0.0900 - root_mean_squared_error: 0.3000\n",
      "Epoch 88/100\n",
      "\u001b[1m4358/4358\u001b[0m \u001b[32m━━━━━━━━━━━━━━━━━━━━\u001b[0m\u001b[37m\u001b[0m \u001b[1m6s\u001b[0m 1ms/step - loss: 0.0899 - root_mean_squared_error: 0.2999\n",
      "Epoch 89/100\n",
      "\u001b[1m4358/4358\u001b[0m \u001b[32m━━━━━━━━━━━━━━━━━━━━\u001b[0m\u001b[37m\u001b[0m \u001b[1m6s\u001b[0m 1ms/step - loss: 0.0899 - root_mean_squared_error: 0.2998\n",
      "Epoch 90/100\n",
      "\u001b[1m4358/4358\u001b[0m \u001b[32m━━━━━━━━━━━━━━━━━━━━\u001b[0m\u001b[37m\u001b[0m \u001b[1m7s\u001b[0m 2ms/step - loss: 0.0899 - root_mean_squared_error: 0.2998\n",
      "Epoch 91/100\n",
      "\u001b[1m4358/4358\u001b[0m \u001b[32m━━━━━━━━━━━━━━━━━━━━\u001b[0m\u001b[37m\u001b[0m \u001b[1m9s\u001b[0m 2ms/step - loss: 0.0898 - root_mean_squared_error: 0.2997\n",
      "Epoch 92/100\n",
      "\u001b[1m4358/4358\u001b[0m \u001b[32m━━━━━━━━━━━━━━━━━━━━\u001b[0m\u001b[37m\u001b[0m \u001b[1m8s\u001b[0m 2ms/step - loss: 0.0898 - root_mean_squared_error: 0.2997\n",
      "Epoch 93/100\n",
      "\u001b[1m4358/4358\u001b[0m \u001b[32m━━━━━━━━━━━━━━━━━━━━\u001b[0m\u001b[37m\u001b[0m \u001b[1m9s\u001b[0m 2ms/step - loss: 0.0898 - root_mean_squared_error: 0.2997\n",
      "Epoch 94/100\n",
      "\u001b[1m4358/4358\u001b[0m \u001b[32m━━━━━━━━━━━━━━━━━━━━\u001b[0m\u001b[37m\u001b[0m \u001b[1m8s\u001b[0m 2ms/step - loss: 0.0897 - root_mean_squared_error: 0.2995\n",
      "Epoch 95/100\n",
      "\u001b[1m4358/4358\u001b[0m \u001b[32m━━━━━━━━━━━━━━━━━━━━\u001b[0m\u001b[37m\u001b[0m \u001b[1m7s\u001b[0m 2ms/step - loss: 0.0897 - root_mean_squared_error: 0.2995\n",
      "Epoch 96/100\n",
      "\u001b[1m4358/4358\u001b[0m \u001b[32m━━━━━━━━━━━━━━━━━━━━\u001b[0m\u001b[37m\u001b[0m \u001b[1m9s\u001b[0m 2ms/step - loss: 0.0898 - root_mean_squared_error: 0.2996\n",
      "Epoch 97/100\n",
      "\u001b[1m4358/4358\u001b[0m \u001b[32m━━━━━━━━━━━━━━━━━━━━\u001b[0m\u001b[37m\u001b[0m \u001b[1m8s\u001b[0m 2ms/step - loss: 0.0897 - root_mean_squared_error: 0.2995\n",
      "Epoch 98/100\n",
      "\u001b[1m4358/4358\u001b[0m \u001b[32m━━━━━━━━━━━━━━━━━━━━\u001b[0m\u001b[37m\u001b[0m \u001b[1m8s\u001b[0m 2ms/step - loss: 0.0896 - root_mean_squared_error: 0.2994\n",
      "Epoch 99/100\n",
      "\u001b[1m4358/4358\u001b[0m \u001b[32m━━━━━━━━━━━━━━━━━━━━\u001b[0m\u001b[37m\u001b[0m \u001b[1m8s\u001b[0m 2ms/step - loss: 0.0896 - root_mean_squared_error: 0.2994\n",
      "Epoch 100/100\n",
      "\u001b[1m4358/4358\u001b[0m \u001b[32m━━━━━━━━━━━━━━━━━━━━\u001b[0m\u001b[37m\u001b[0m \u001b[1m8s\u001b[0m 2ms/step - loss: 0.0896 - root_mean_squared_error: 0.2994\n",
      "\u001b[1m1090/1090\u001b[0m \u001b[32m━━━━━━━━━━━━━━━━━━━━\u001b[0m\u001b[37m\u001b[0m \u001b[1m2s\u001b[0m 1ms/step - loss: 0.0954 - root_mean_squared_error: 0.3088\n",
      "Test Loss: 0.09507333487272263\n",
      "Test RMSE: 0.3083396553993225\n"
     ]
    }
   ],
   "source": [
    "# Step 1: Log transform the target\n",
    "y_train_log = np.log1p(y_train)\n",
    "y_test_log = np.log1p(y_test)\n",
    "\n",
    "# Step 2: Fit the model on log-transformed targets\n",
    "history = model.fit(x_train_scaled, y_train_log, epochs=100, batch_size=32, verbose=True)\n",
    "\n",
    "# Step 3: Evaluate on log-transformed targets\n",
    "loss, rmse = model.evaluate(x_test_scaled, y_test_log)\n",
    "print(f\"Test Loss: {loss}\")\n",
    "print(f\"Test RMSE: {rmse}\")\n",
    "\n"
   ]
  },
  {
   "cell_type": "code",
   "execution_count": 114,
   "id": "5346bfca-5768-4cd7-a113-dd60ea576680",
   "metadata": {},
   "outputs": [
    {
     "name": "stdout",
     "output_type": "stream",
     "text": [
      "\u001b[1m1090/1090\u001b[0m \u001b[32m━━━━━━━━━━━━━━━━━━━━\u001b[0m\u001b[37m\u001b[0m \u001b[1m1s\u001b[0m 1ms/step\n"
     ]
    },
    {
     "data": {
      "application/javascript": [
       "\n",
       "        if (window._pyforest_update_imports_cell) { window._pyforest_update_imports_cell('import numpy as np\\nfrom sklearn.ensemble import RandomForestRegressor\\nimport matplotlib.pyplot as plt'); }\n",
       "    "
      ],
      "text/plain": [
       "<IPython.core.display.Javascript object>"
      ]
     },
     "metadata": {},
     "output_type": "display_data"
    },
    {
     "data": {
      "application/javascript": [
       "\n",
       "        if (window._pyforest_update_imports_cell) { window._pyforest_update_imports_cell('import numpy as np\\nfrom sklearn.ensemble import RandomForestRegressor\\nimport matplotlib.pyplot as plt'); }\n",
       "    "
      ],
      "text/plain": [
       "<IPython.core.display.Javascript object>"
      ]
     },
     "metadata": {},
     "output_type": "display_data"
    },
    {
     "name": "stdout",
     "output_type": "stream",
     "text": [
      "Test RMSE on original scale: 17.383077803608042\n"
     ]
    }
   ],
   "source": [
    "# Step 4: Predict using the trained model\n",
    "y_pred_log = model.predict(x_test_scaled)\n",
    "\n",
    "# Step 5: Inverse transform the predictions back to the original scale\n",
    "y_pred = np.expm1(y_pred_log)  # Inverse of log transformation\n",
    "\n",
    "# Step 6: Calculate RMSE on the original scale\n",
    "rmse_original_scale = np.sqrt(mean_squared_error(y_test, y_pred))   \n",
    "print(f\"Test RMSE on original scale: {rmse_original_scale}\")"
   ]
  },
  {
   "cell_type": "code",
   "execution_count": null,
   "id": "4089ccb9-47f7-4ded-986d-59f4263fa68e",
   "metadata": {},
   "outputs": [],
   "source": []
  }
 ],
 "metadata": {
  "kernelspec": {
   "display_name": "Python 3 (ipykernel)",
   "language": "python",
   "name": "python3"
  },
  "language_info": {
   "codemirror_mode": {
    "name": "ipython",
    "version": 3
   },
   "file_extension": ".py",
   "mimetype": "text/x-python",
   "name": "python",
   "nbconvert_exporter": "python",
   "pygments_lexer": "ipython3",
   "version": "3.11.5"
  }
 },
 "nbformat": 4,
 "nbformat_minor": 5
}
